{
 "cells": [
  {
   "cell_type": "code",
   "execution_count": 21,
   "metadata": {},
   "outputs": [],
   "source": [
    "import pandas as pd\n",
    "import numpy as np\n",
    "\n",
    "pd.set_option(\"display.max_colwidth\", 180)"
   ]
  },
  {
   "cell_type": "code",
   "execution_count": 47,
   "metadata": {},
   "outputs": [
    {
     "data": {
      "text/html": [
       "<div>\n",
       "<style scoped>\n",
       "    .dataframe tbody tr th:only-of-type {\n",
       "        vertical-align: middle;\n",
       "    }\n",
       "\n",
       "    .dataframe tbody tr th {\n",
       "        vertical-align: top;\n",
       "    }\n",
       "\n",
       "    .dataframe thead th {\n",
       "        text-align: right;\n",
       "    }\n",
       "</style>\n",
       "<table border=\"1\" class=\"dataframe\">\n",
       "  <thead>\n",
       "    <tr style=\"text-align: right;\">\n",
       "      <th></th>\n",
       "      <th>URL</th>\n",
       "      <th>Current traffic</th>\n",
       "      <th>Current # of keywords</th>\n",
       "    </tr>\n",
       "  </thead>\n",
       "  <tbody>\n",
       "    <tr>\n",
       "      <th>14</th>\n",
       "      <td>https://www.squareone.ca/resource-centres/getting-to-know-your-home/perimeter-drain-system</td>\n",
       "      <td>1269.0</td>\n",
       "      <td>575.0</td>\n",
       "    </tr>\n",
       "    <tr>\n",
       "      <th>128</th>\n",
       "      <td>https://www.squareone.ca/resource-centres/home-improvement/rain-barrels</td>\n",
       "      <td>50.0</td>\n",
       "      <td>68.0</td>\n",
       "    </tr>\n",
       "    <tr>\n",
       "      <th>164</th>\n",
       "      <td>https://www.squareone.ca/resource-centres/home-personal-safety/preparing-for-rainy-weather</td>\n",
       "      <td>17.0</td>\n",
       "      <td>27.0</td>\n",
       "    </tr>\n",
       "  </tbody>\n",
       "</table>\n",
       "</div>"
      ],
      "text/plain": [
       "                                                                                            URL  \\\n",
       "14   https://www.squareone.ca/resource-centres/getting-to-know-your-home/perimeter-drain-system   \n",
       "128                     https://www.squareone.ca/resource-centres/home-improvement/rain-barrels   \n",
       "164  https://www.squareone.ca/resource-centres/home-personal-safety/preparing-for-rainy-weather   \n",
       "\n",
       "     Current traffic  Current # of keywords  \n",
       "14            1269.0                  575.0  \n",
       "128             50.0                   68.0  \n",
       "164             17.0                   27.0  "
      ]
     },
     "execution_count": 47,
     "metadata": {},
     "output_type": "execute_result"
    }
   ],
   "source": [
    "# load the dataframe\n",
    "df = pd.read_csv(r\"C:\\Users\\Hooman Deghani\\OneDrive\\PC\\Desktop\\Current Datasets\\www.squareone.ca-resource-centres-top-pages-__2023-02-16_11-32-01.csv\")\n",
    "\n",
    "# remove unnecessary columns\n",
    "df = df.drop(columns = df.columns.difference([\n",
    "    'URL', 'Current traffic', 'Current # of keywords'\n",
    "]))\n",
    "\n",
    "# Find three for /home\n",
    "df_home = df.loc[df.loc[:, 'URL'].str.contains('home')]\n",
    "\n",
    "df_tenant = df.loc[df.loc[:, 'URL'].str.contains('tenant|renter|landlord')]\n",
    "\n",
    "df_alberta = df.loc[df.loc[:, 'URL'].str.contains('winter|hail|wind')]\n",
    "\n",
    "df_bc = df.loc[df.loc[:, 'URL'].str.contains('bc|vancouver|british|rain')]\n",
    "df_bc.head(10)"
   ]
  }
 ],
 "metadata": {
  "kernelspec": {
   "display_name": "Python 3",
   "language": "python",
   "name": "python3"
  },
  "language_info": {
   "codemirror_mode": {
    "name": "ipython",
    "version": 3
   },
   "file_extension": ".py",
   "mimetype": "text/x-python",
   "name": "python",
   "nbconvert_exporter": "python",
   "pygments_lexer": "ipython3",
   "version": "3.10.5"
  },
  "orig_nbformat": 4,
  "vscode": {
   "interpreter": {
    "hash": "eabca979b0553fa6d87e9a00c352604d3b703d4afc9641643dd42376492b80f6"
   }
  }
 },
 "nbformat": 4,
 "nbformat_minor": 2
}
