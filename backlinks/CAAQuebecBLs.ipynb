{
 "cells": [
  {
   "cell_type": "code",
   "execution_count": 1,
   "metadata": {},
   "outputs": [
    {
     "data": {
      "text/plain": [
       "Index(['Referring page title', 'Referring page URL', 'Language', 'Platform',\n",
       "       'Referring page HTTP code', 'Domain rating', 'UR', 'Domain traffic',\n",
       "       'Referring domains', 'Linked domains', 'External links', 'Page traffic',\n",
       "       'Keywords', 'Target URL', 'Left context', 'Anchor', 'Right context',\n",
       "       'Type', 'Content', 'Nofollow', 'UGC', 'Sponsored', 'Rendered', 'Raw',\n",
       "       'Lost status', 'Drop reason', 'Discovered status', 'First seen',\n",
       "       'Last seen', 'Lost', 'Links in group'],\n",
       "      dtype='object')"
      ]
     },
     "execution_count": 1,
     "metadata": {},
     "output_type": "execute_result"
    }
   ],
   "source": [
    "import pandas as pd\n",
    "import numpy as np\n",
    "\n",
    "pd.set_option('display.max_rows', None)\n",
    "\n",
    "base = pd.read_csv(\n",
    "    r\"G:\\Shared drives\\sq1 - marketing\\seo\\Competitor Analysis\\Data\\www.caaquebec.com-backlinks-subdomains__2023-01-09_10-48-30.csv\"\n",
    ")\n",
    "\n",
    "base.columns"
   ]
  },
  {
   "cell_type": "code",
   "execution_count": 2,
   "metadata": {},
   "outputs": [],
   "source": [
    "# Shaping the dataframe\n",
    "\n",
    "base = base.drop(\n",
    "    columns = base.columns.difference(\n",
    "        [\n",
    "            'Referring page title', 'Referring page URL', 'Page traffic',\n",
    "            'Target URL'\n",
    "        ]\n",
    "    )\n",
    ")\n",
    "\n",
    "df = pd.DataFrame(base.loc[:, 'Target URL'].value_counts())\n",
    "df = df.rename(columns={\"Target URL\": \"Count\"})\n",
    "df = df.sort_values(by='Count', ascending=False)\n",
    "df.loc[:, [\"Type\", \"keyword\"]] = [\"\", \"\"]"
   ]
  },
  {
   "cell_type": "code",
   "execution_count": 3,
   "metadata": {},
   "outputs": [],
   "source": [
    "# update urls containing 'guide' to type = 'Blog'\n",
    "\n",
    "list = []\n",
    "for index, value in df.loc[:, 'Count'].items():\n",
    "    if 'guide' in index:\n",
    "        list.append(index)\n",
    "df.loc[list, 'Type'] = 'Blog'"
   ]
  },
  {
   "cell_type": "code",
   "execution_count": 4,
   "metadata": {},
   "outputs": [],
   "source": [
    "# updates the home pages to type = 'Product'\n",
    "\n",
    "df.loc[df.index.str.contains(r'^http.+com/$'), 'Type'] = 'Product'"
   ]
  },
  {
   "cell_type": "code",
   "execution_count": 5,
   "metadata": {},
   "outputs": [],
   "source": [
    "# Updating the gas price tool\n",
    "df.loc[df.index.str.contains(\n",
    "    'https://www.caaquebec.com/fr/sur-la-route/interets-publics/'\n",
    "    'dossier-essence/info-essence'\n",
    "    ), 'Type'] = 'Tool'"
   ]
  },
  {
   "cell_type": "code",
   "execution_count": 6,
   "metadata": {},
   "outputs": [],
   "source": [
    "# update 'les pires routes' to type == contest\n",
    "df.loc[df.index.str.contains('les-pires-routes'), 'Type'] = 'Campaign'"
   ]
  },
  {
   "cell_type": "code",
   "execution_count": 7,
   "metadata": {},
   "outputs": [],
   "source": [
    "# update the \"dossier-essence\" url components\n",
    "df.loc[df.index.str.contains('composantes-du-prix-de-lessenc'), 'Type'] = 'Blog'"
   ]
  },
  {
   "cell_type": "code",
   "execution_count": 8,
   "metadata": {},
   "outputs": [],
   "source": [
    "# update urls containing 'enfant' to type = 'Campaign'\n",
    "df.loc[df.index.str.contains('enfants'), 'Type'] = 'Campaign'"
   ]
  },
  {
   "cell_type": "code",
   "execution_count": 9,
   "metadata": {},
   "outputs": [],
   "source": [
    "# update urls containing 'garage' to type = 'Tool'\n",
    "df.loc[df.index.str.contains('garage'), 'Type'] = 'Tool'"
   ]
  },
  {
   "cell_type": "code",
   "execution_count": 10,
   "metadata": {},
   "outputs": [],
   "source": [
    "# update urls containing 'conseils' to type = 'Blog'\n",
    "df.loc[df.index.str.contains('conseils') , 'Type'] = 'Blog'"
   ]
  },
  {
   "cell_type": "code",
   "execution_count": 11,
   "metadata": {},
   "outputs": [],
   "source": [
    "# update urls containing 'immatriculation et permis' to type = 'Tool'\n",
    "df.loc[df.index.str.contains('immatriculation'), 'Type'] = 'Tool'"
   ]
  },
  {
   "cell_type": "code",
   "execution_count": 12,
   "metadata": {},
   "outputs": [],
   "source": [
    "# update urls containig 'roadside assistance' to type = 'Product'\n",
    "df.loc[df.index.str.contains('routier-durgence'), 'Type'] = 'Product'"
   ]
  },
  {
   "cell_type": "code",
   "execution_count": 22,
   "metadata": {},
   "outputs": [],
   "source": [
    "df.loc[df.index.str.contains(\"itcid\"), 'Type'] = 'Affiliate'"
   ]
  },
  {
   "cell_type": "code",
   "execution_count": 26,
   "metadata": {},
   "outputs": [],
   "source": [
    "df.loc[df.index.str.contains(\"mobilite-durable\"), 'Type'] = 'Product'"
   ]
  },
  {
   "cell_type": "code",
   "execution_count": 36,
   "metadata": {},
   "outputs": [],
   "source": [
    "df.loc[df.index.str.contains(\"mediation-en-cas-de-differend-avec-un-commercant\"), 'Type'] = 'Partnership'"
   ]
  },
  {
   "cell_type": "code",
   "execution_count": 29,
   "metadata": {},
   "outputs": [
    {
     "data": {
      "text/plain": [
       "Index(['http://www.caaquebec.com/', 'https://www.caaquebec.com/',\n",
       "       'https://www.caaquebec.com/fr/sur-la-route/interets-publics/les-pires-routes/',\n",
       "       'https://www.caaquebec.com/fr/', 'http://www.caaquebec.com/Accueil/',\n",
       "       'https://www.caaquebec.com/en/',\n",
       "       'https://www.caaquebec.com/en/on-the-road/advice/tips-and-tricks/tip-and-trick/show/sujet/windshield-wipers-everything-you-need-to-know/',\n",
       "       'https://www.caaquebec.com/fr/actualite/nouvelles/article/pneus-dhiver-cest-pas-ce-que-je-cherche/',\n",
       "       'https://www.caaquebec.com/fr/sur-la-route/interets-publics/les-pires-routes/palmares-2022-par-regions/',\n",
       "       'https://www.caaquebec.com/fr',\n",
       "       ...\n",
       "       'http://www.caaquebec.com/en/index.asp',\n",
       "       'https://www.caaquebec.com/fr/auto/conseils/capsules-conseils/conseil/show/sujet/les-12-indispensables-dune-trousse-durgence-hivernale-pour-la-voiture/',\n",
       "       'https://www.caaquebec.com/fr/sur-la-route/interets-publics/mobilite-durable/bornes-de-recharge/',\n",
       "       'https://www.caaquebec.com/fr/actualite/communiques-de-presse/intentions-de-vacances-2017-resultats/',\n",
       "       'https://www.caaquebec.com/fr/magazine-caa-quebec/moment-magique-dans-la-vallee-de-la-mort/',\n",
       "       'https://www.caaquebec.com/en/at-home/guides/your-healthy-home-guide/temperature-and-humidity-',\n",
       "       'https://www.caaquebec.com/fr/pour-vos-assurances/assurance-auto/',\n",
       "       'https://www.caaquebec.com/fournisseurs',\n",
       "       'http://www.caaquebec.com/fileadmin/documents/PDF/Sur_la_route/Securite_routiere/Lettres_ouvertes/La_Presse_fr.pdf',\n",
       "       'https://www.caaquebec.com/fr/sur-la-route/conseils/essais-routiers/action/show/essai/1983/3/'],\n",
       "      dtype='object', length=264)"
      ]
     },
     "execution_count": 29,
     "metadata": {},
     "output_type": "execute_result"
    }
   ],
   "source": [
    "df.index"
   ]
  },
  {
   "cell_type": "code",
   "execution_count": 35,
   "metadata": {},
   "outputs": [
    {
     "data": {
      "text/html": [
       "<div>\n",
       "<style scoped>\n",
       "    .dataframe tbody tr th:only-of-type {\n",
       "        vertical-align: middle;\n",
       "    }\n",
       "\n",
       "    .dataframe tbody tr th {\n",
       "        vertical-align: top;\n",
       "    }\n",
       "\n",
       "    .dataframe thead th {\n",
       "        text-align: right;\n",
       "    }\n",
       "</style>\n",
       "<table border=\"1\" class=\"dataframe\">\n",
       "  <thead>\n",
       "    <tr style=\"text-align: right;\">\n",
       "      <th></th>\n",
       "      <th>Count</th>\n",
       "      <th>Type</th>\n",
       "      <th>keyword</th>\n",
       "    </tr>\n",
       "  </thead>\n",
       "  <tbody>\n",
       "    <tr>\n",
       "      <th>https://www.caaquebec.com/fr/sur-la-route/interets-publics/les-pires-routes/</th>\n",
       "      <td>11</td>\n",
       "      <td>Campaign</td>\n",
       "      <td></td>\n",
       "    </tr>\n",
       "    <tr>\n",
       "      <th>https://www.caaquebec.com/fr/sur-la-route/interets-publics/les-pires-routes/palmares-2022-par-regions/</th>\n",
       "      <td>5</td>\n",
       "      <td>Campaign</td>\n",
       "      <td></td>\n",
       "    </tr>\n",
       "    <tr>\n",
       "      <th>https://www.caaquebec.com/fr/sur-la-route/interets-publics/dossier-essence/composantes-du-prix-de-lessence/</th>\n",
       "      <td>5</td>\n",
       "      <td>Blog</td>\n",
       "      <td></td>\n",
       "    </tr>\n",
       "    <tr>\n",
       "      <th>https://www.caaquebec.com/fr/sur-la-route/interets-publics/dossier-essence/info-essence/</th>\n",
       "      <td>5</td>\n",
       "      <td>Tool</td>\n",
       "      <td></td>\n",
       "    </tr>\n",
       "    <tr>\n",
       "      <th>https://www.caaquebec.com/fr/sur-la-route/interets-publics/les-pires-routes/palmares-2016-par-regions/</th>\n",
       "      <td>4</td>\n",
       "      <td>Campaign</td>\n",
       "      <td></td>\n",
       "    </tr>\n",
       "    <tr>\n",
       "      <th>https://www.caaquebec.com/fr/sur-la-route/services/verification-de-sieges-dauto-pour-enfants/</th>\n",
       "      <td>2</td>\n",
       "      <td>Campaign</td>\n",
       "      <td></td>\n",
       "    </tr>\n",
       "    <tr>\n",
       "      <th>https://www.caaquebec.com/fr/sur-la-route/reseaux-recommandes/garages-recommandes/</th>\n",
       "      <td>2</td>\n",
       "      <td>Tool</td>\n",
       "      <td></td>\n",
       "    </tr>\n",
       "    <tr>\n",
       "      <th>https://www.caaquebec.com/fr/sur-la-route/conseils/</th>\n",
       "      <td>2</td>\n",
       "      <td>Blog</td>\n",
       "      <td></td>\n",
       "    </tr>\n",
       "    <tr>\n",
       "      <th>https://www.caaquebec.com/fr/sur-la-route/reseaux-recommandes/verification-de-sieges-dauto-pour-enfants/</th>\n",
       "      <td>2</td>\n",
       "      <td>Campaign</td>\n",
       "      <td></td>\n",
       "    </tr>\n",
       "    <tr>\n",
       "      <th>https://www.caaquebec.com/fr/sur-la-route/services/immatriculation-et-permis-de-conduire/</th>\n",
       "      <td>2</td>\n",
       "      <td>Tool</td>\n",
       "      <td></td>\n",
       "    </tr>\n",
       "    <tr>\n",
       "      <th>https://www.caaquebec.com/fr/sur-la-route/interets-publics/dossier-essence/composantes-du-prix-de-lessence</th>\n",
       "      <td>1</td>\n",
       "      <td>Blog</td>\n",
       "      <td></td>\n",
       "    </tr>\n",
       "    <tr>\n",
       "      <th>https://www.caaquebec.com/fr/sur-la-route/services/service-routier-durgence/</th>\n",
       "      <td>1</td>\n",
       "      <td>Product</td>\n",
       "      <td></td>\n",
       "    </tr>\n",
       "    <tr>\n",
       "      <th>https://www.caaquebec.com/fr/sur-la-route/services/sieges-dauto-pour-enfants</th>\n",
       "      <td>1</td>\n",
       "      <td>Campaign</td>\n",
       "      <td></td>\n",
       "    </tr>\n",
       "    <tr>\n",
       "      <th>https://www.caaquebec.com/fr/sur-la-route/interets-publics/dossier-essence/info-essence-1</th>\n",
       "      <td>1</td>\n",
       "      <td>Tool</td>\n",
       "      <td></td>\n",
       "    </tr>\n",
       "    <tr>\n",
       "      <th>https://www.caaquebec.com/fr/sur-la-route/conseils/essais-routiers/</th>\n",
       "      <td>1</td>\n",
       "      <td>Blog</td>\n",
       "      <td></td>\n",
       "    </tr>\n",
       "    <tr>\n",
       "      <th>https://www.caaquebec.com/fr/sur-la-route/conseils/outils-et-references/couts-dutilisation-des-vehicules/</th>\n",
       "      <td>1</td>\n",
       "      <td>Blog</td>\n",
       "      <td></td>\n",
       "    </tr>\n",
       "    <tr>\n",
       "      <th>https://www.caaquebec.com/fr/sur-la-route/garages-recommandes/</th>\n",
       "      <td>1</td>\n",
       "      <td>Tool</td>\n",
       "      <td></td>\n",
       "    </tr>\n",
       "    <tr>\n",
       "      <th>https://www.caaquebec.com/fr/sur-la-route/services/assistance-velo/?itcid=assistance-velo&amp;itccat=accroches</th>\n",
       "      <td>1</td>\n",
       "      <td>Affiliate</td>\n",
       "      <td></td>\n",
       "    </tr>\n",
       "    <tr>\n",
       "      <th>https://www.caaquebec.com/fr/sur-la-route/conseils/outils-et-references/rappels-automobiles/</th>\n",
       "      <td>1</td>\n",
       "      <td>Blog</td>\n",
       "      <td></td>\n",
       "    </tr>\n",
       "    <tr>\n",
       "      <th>https://www.caaquebec.com/fr/sur-la-route/interets-publics/mobilite-durable/bornes-de-recharge-publiques-pour-voitures-electriques/</th>\n",
       "      <td>1</td>\n",
       "      <td>Product</td>\n",
       "      <td></td>\n",
       "    </tr>\n",
       "    <tr>\n",
       "      <th>https://www.caaquebec.com/fr/sur-la-route/services/mediation-en-cas-de-differend-avec-un-commercant/entente-avec-lamvoq/</th>\n",
       "      <td>1</td>\n",
       "      <td>Partnership</td>\n",
       "      <td></td>\n",
       "    </tr>\n",
       "    <tr>\n",
       "      <th>https://www.caaquebec.com/fr/sur-la-route/services/estimation-de-la-valeur-dun-vehicule-doccasion/</th>\n",
       "      <td>1</td>\n",
       "      <td></td>\n",
       "      <td></td>\n",
       "    </tr>\n",
       "    <tr>\n",
       "      <th>https://www.caaquebec.com/fr/sur-la-route/interets-publics/les-pires-routes/palmares-2021-par-regions/</th>\n",
       "      <td>1</td>\n",
       "      <td>Campaign</td>\n",
       "      <td></td>\n",
       "    </tr>\n",
       "    <tr>\n",
       "      <th>https://www.caaquebec.com/fr/sur-la-route/conseils/outils-et-references/garantie-des-vehicules-neufs/garanties-des-vehicules-neufs-2019/</th>\n",
       "      <td>1</td>\n",
       "      <td>Blog</td>\n",
       "      <td></td>\n",
       "    </tr>\n",
       "    <tr>\n",
       "      <th>https://www.caaquebec.com/fr/sur-la-route/services/service-routier-durgence/?utm_id=Caa_quebec</th>\n",
       "      <td>1</td>\n",
       "      <td>Product</td>\n",
       "      <td></td>\n",
       "    </tr>\n",
       "    <tr>\n",
       "      <th>https://www.caaquebec.com/fr/sur-la-route/services/verification-de-sieges-dauto-pour-enfants/resultats/region/monteregie</th>\n",
       "      <td>1</td>\n",
       "      <td>Campaign</td>\n",
       "      <td></td>\n",
       "    </tr>\n",
       "    <tr>\n",
       "      <th>https://www.caaquebec.com/fr/sur-la-route/services/verification-de-sieges-dauto-pour-enfants/resultats/region/monteregie/</th>\n",
       "      <td>1</td>\n",
       "      <td>Campaign</td>\n",
       "      <td></td>\n",
       "    </tr>\n",
       "    <tr>\n",
       "      <th>https://www.caaquebec.com/fr/sur-la-route/interets-publics/securite-routiere/brigade-scolaire/</th>\n",
       "      <td>1</td>\n",
       "      <td></td>\n",
       "      <td></td>\n",
       "    </tr>\n",
       "    <tr>\n",
       "      <th>https://www.caaquebec.com/fr/sur-la-route/interets-publics/mobilite-durable/bornes-de-recharge/</th>\n",
       "      <td>1</td>\n",
       "      <td>Product</td>\n",
       "      <td></td>\n",
       "    </tr>\n",
       "    <tr>\n",
       "      <th>https://www.caaquebec.com/fr/sur-la-route/conseils/essais-routiers/action/show/essai/1983/3/</th>\n",
       "      <td>1</td>\n",
       "      <td>Blog</td>\n",
       "      <td></td>\n",
       "    </tr>\n",
       "  </tbody>\n",
       "</table>\n",
       "</div>"
      ],
      "text/plain": [
       "                                                    Count         Type keyword\n",
       "https://www.caaquebec.com/fr/sur-la-route/inter...     11     Campaign        \n",
       "https://www.caaquebec.com/fr/sur-la-route/inter...      5     Campaign        \n",
       "https://www.caaquebec.com/fr/sur-la-route/inter...      5         Blog        \n",
       "https://www.caaquebec.com/fr/sur-la-route/inter...      5         Tool        \n",
       "https://www.caaquebec.com/fr/sur-la-route/inter...      4     Campaign        \n",
       "https://www.caaquebec.com/fr/sur-la-route/servi...      2     Campaign        \n",
       "https://www.caaquebec.com/fr/sur-la-route/resea...      2         Tool        \n",
       "https://www.caaquebec.com/fr/sur-la-route/conse...      2         Blog        \n",
       "https://www.caaquebec.com/fr/sur-la-route/resea...      2     Campaign        \n",
       "https://www.caaquebec.com/fr/sur-la-route/servi...      2         Tool        \n",
       "https://www.caaquebec.com/fr/sur-la-route/inter...      1         Blog        \n",
       "https://www.caaquebec.com/fr/sur-la-route/servi...      1      Product        \n",
       "https://www.caaquebec.com/fr/sur-la-route/servi...      1     Campaign        \n",
       "https://www.caaquebec.com/fr/sur-la-route/inter...      1         Tool        \n",
       "https://www.caaquebec.com/fr/sur-la-route/conse...      1         Blog        \n",
       "https://www.caaquebec.com/fr/sur-la-route/conse...      1         Blog        \n",
       "https://www.caaquebec.com/fr/sur-la-route/garag...      1         Tool        \n",
       "https://www.caaquebec.com/fr/sur-la-route/servi...      1    Affiliate        \n",
       "https://www.caaquebec.com/fr/sur-la-route/conse...      1         Blog        \n",
       "https://www.caaquebec.com/fr/sur-la-route/inter...      1      Product        \n",
       "https://www.caaquebec.com/fr/sur-la-route/servi...      1  Partnership        \n",
       "https://www.caaquebec.com/fr/sur-la-route/servi...      1                     \n",
       "https://www.caaquebec.com/fr/sur-la-route/inter...      1     Campaign        \n",
       "https://www.caaquebec.com/fr/sur-la-route/conse...      1         Blog        \n",
       "https://www.caaquebec.com/fr/sur-la-route/servi...      1      Product        \n",
       "https://www.caaquebec.com/fr/sur-la-route/servi...      1     Campaign        \n",
       "https://www.caaquebec.com/fr/sur-la-route/servi...      1     Campaign        \n",
       "https://www.caaquebec.com/fr/sur-la-route/inter...      1                     \n",
       "https://www.caaquebec.com/fr/sur-la-route/inter...      1      Product        \n",
       "https://www.caaquebec.com/fr/sur-la-route/conse...      1         Blog        "
      ]
     },
     "execution_count": 35,
     "metadata": {},
     "output_type": "execute_result"
    }
   ],
   "source": [
    "df.loc[df.index.str.contains('sur-la-route')]"
   ]
  },
  {
   "cell_type": "code",
   "execution_count": 15,
   "metadata": {},
   "outputs": [
    {
     "data": {
      "text/html": [
       "<div>\n",
       "<style scoped>\n",
       "    .dataframe tbody tr th:only-of-type {\n",
       "        vertical-align: middle;\n",
       "    }\n",
       "\n",
       "    .dataframe tbody tr th {\n",
       "        vertical-align: top;\n",
       "    }\n",
       "\n",
       "    .dataframe thead th {\n",
       "        text-align: right;\n",
       "    }\n",
       "</style>\n",
       "<table border=\"1\" class=\"dataframe\">\n",
       "  <thead>\n",
       "    <tr style=\"text-align: right;\">\n",
       "      <th></th>\n",
       "      <th>Count</th>\n",
       "      <th>Type</th>\n",
       "      <th>keyword</th>\n",
       "    </tr>\n",
       "  </thead>\n",
       "  <tbody>\n",
       "    <tr>\n",
       "      <th>http://www.caaquebec.com/</th>\n",
       "      <td>48</td>\n",
       "      <td>Product</td>\n",
       "      <td></td>\n",
       "    </tr>\n",
       "    <tr>\n",
       "      <th>https://www.caaquebec.com/</th>\n",
       "      <td>31</td>\n",
       "      <td>Product</td>\n",
       "      <td></td>\n",
       "    </tr>\n",
       "    <tr>\n",
       "      <th>https://www.caaquebec.com/fr/sur-la-route/interets-publics/les-pires-routes/</th>\n",
       "      <td>11</td>\n",
       "      <td>Campaign</td>\n",
       "      <td></td>\n",
       "    </tr>\n",
       "    <tr>\n",
       "      <th>https://www.caaquebec.com/fr/</th>\n",
       "      <td>10</td>\n",
       "      <td></td>\n",
       "      <td></td>\n",
       "    </tr>\n",
       "    <tr>\n",
       "      <th>http://www.caaquebec.com/Accueil/</th>\n",
       "      <td>8</td>\n",
       "      <td></td>\n",
       "      <td></td>\n",
       "    </tr>\n",
       "  </tbody>\n",
       "</table>\n",
       "</div>"
      ],
      "text/plain": [
       "                                                    Count      Type keyword\n",
       "http://www.caaquebec.com/                              48   Product        \n",
       "https://www.caaquebec.com/                             31   Product        \n",
       "https://www.caaquebec.com/fr/sur-la-route/inter...     11  Campaign        \n",
       "https://www.caaquebec.com/fr/                          10                  \n",
       "http://www.caaquebec.com/Accueil/                       8                  "
      ]
     },
     "execution_count": 15,
     "metadata": {},
     "output_type": "execute_result"
    }
   ],
   "source": [
    "df.iloc[0:5,:]"
   ]
  }
 ],
 "metadata": {
  "kernelspec": {
   "display_name": "Python 3",
   "language": "python",
   "name": "python3"
  },
  "language_info": {
   "codemirror_mode": {
    "name": "ipython",
    "version": 3
   },
   "file_extension": ".py",
   "mimetype": "text/x-python",
   "name": "python",
   "nbconvert_exporter": "python",
   "pygments_lexer": "ipython3",
   "version": "3.10.5 (tags/v3.10.5:f377153, Jun  6 2022, 16:14:13) [MSC v.1929 64 bit (AMD64)]"
  },
  "orig_nbformat": 4,
  "vscode": {
   "interpreter": {
    "hash": "eabca979b0553fa6d87e9a00c352604d3b703d4afc9641643dd42376492b80f6"
   }
  }
 },
 "nbformat": 4,
 "nbformat_minor": 2
}
