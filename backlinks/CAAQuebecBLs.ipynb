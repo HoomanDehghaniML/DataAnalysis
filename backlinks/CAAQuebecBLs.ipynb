{
 "cells": [
  {
   "cell_type": "code",
   "execution_count": 1,
   "metadata": {},
   "outputs": [],
   "source": [
    "import pandas as pd\n",
    "import numpy as np\n",
    "\n",
    "pd.set_option('display.max_rows', None)\n",
    "\n",
    "base = pd.read_csv(\n",
    "    r\"G:\\Shared drives\\sq1 - marketing\\seo\\Competitor Analysis\\Data\\www.caaquebec.com-backlinks-subdomains__2023-01-09_10-48-30.csv\"\n",
    ")"
   ]
  },
  {
   "cell_type": "code",
   "execution_count": 2,
   "metadata": {},
   "outputs": [],
   "source": [
    "# Campaigns include press releases\n",
    "# Shaping the dataframe\n",
    "\n",
    "base = base.drop(\n",
    "    columns = base.columns.difference(\n",
    "        [\n",
    "            'Referring page title', 'Referring page URL', 'Page traffic',\n",
    "            'Target URL'\n",
    "        ]\n",
    "    )\n",
    ")\n",
    "\n",
    "df = pd.DataFrame(base.loc[:, 'Target URL'].value_counts())\n",
    "df = df.rename(columns={\"Target URL\": \"Count\"})\n",
    "df = df.sort_values(by='Count', ascending=False)\n",
    "df.loc[:, [\"Type\", \"keyword\"]] = [\"\", \"\"]\n",
    "\n",
    "# Remove the links that don't exist on waybackmachine\n",
    "\n",
    "df = df.drop(index=[\n",
    "    'https://www.caaquebec.com/en/caa-dollars-and-discounts/find-discounts/mccord-museum/',\n",
    "    'https://www.caaquebec.com/en/caa-dollars-and-discounts/find-discounts/1-800-got-junk/',\n",
    "    'http://www.caaquebec.com/Automobile/TrucsConseils/CapsulesConseilsDetail.htm?TipsID=f85175cf-de31-45b2-9ba2-efef24cfe64b&HighlightPostingInNavigation=Securite-Conduite-Automobile&lang=en',\n",
    "    'http://www.caaquebec.com/Automobile/TrucsConseils/CapsulesConseilsDetail.htm?W=AQUAPLANAGE',\n",
    "    'http://www.caaquebec.com/Automobile/TrucsConseils/CapsulesConseilsDetail.htm?TipsID=216bc34d-4972-4dd5-b706-cf13f0c222e0&HighlightPostingInNavigation=6C8499DD-C1EB-4567-B42A-45C4BE711675&lang=en',\n",
    "    'http://www.caaquebec.com/Automobile/TrucsConseils/CapsulesConseilsDetail.htm?lang=fr&TipsID=1d3eb681-01c5-4093-8a43-879062ba3b2d&HighlightPostingInNavigation=E9BD5B34-6BE2-4215-BBFC-325C6A343ACF',\n",
    "    'https://www.caaquebec.com/fileadmin/images/autres_pages/contrat-assurance-anglais.jpg',\n",
    "    'https://www.caaquebec.com/fileadmin/images/A_la_maison/Guide/coccinelle-asia-1800x750.png',\n",
    "    'https://www.caaquebec.com/fileadmin/documents/PDF/A_la_maison/Guide_Sante_Habitation_FR.pdf',\n",
    "    'https://www.caaquebec.com/fileadmin/images/Pour_vos_assurances/Capsule_conseil/1200x628-conseil_piscine.jpg',\n",
    "    'https://www.caaquebec.com/fileadmin/images/Sur_la_route/Conseil/485x323-Comment-vendre-son-auto-usagee-a-un-particulier.jpg',\n",
    "    'http://www.caaquebec.com/velo',\n",
    "    'http://www.caaquebec.com/Centrevoyages',\n",
    "    'https://www.caaquebec.com/en/your-privileges/caa-dollars/earning/caa-quebec-dollars-mastercardr-credit-card/',\n",
    "    'https://www.caaquebec.com/fr/adhesion-et-renouvellement/caa-plusmd',\n",
    "    'https://www.caaquebec.com/fileadmin/user_upload/icone-info-essence.png',\n",
    "    'https://www.caaquebec.com/gyfvY-1',\n",
    "    'https://www.caaquebec.com/fournisseurs'\n",
    "])"
   ]
  },
  {
   "cell_type": "code",
   "execution_count": 3,
   "metadata": {},
   "outputs": [],
   "source": [
    "# update urls containing 'guide' to type = 'Blog'\n",
    "\n",
    "list = []\n",
    "for index, value in df.loc[:, 'Count'].items():\n",
    "    if 'guide' in index:\n",
    "        list.append(index)\n",
    "df.loc[list, 'Type'] = 'Blog'"
   ]
  },
  {
   "cell_type": "code",
   "execution_count": 4,
   "metadata": {},
   "outputs": [],
   "source": [
    "# updates the home pages to type = 'Product'\n",
    "\n",
    "df.loc[df.index.str.contains(r'^http.+com/$'), 'Type'] = 'Product'"
   ]
  },
  {
   "cell_type": "code",
   "execution_count": 5,
   "metadata": {},
   "outputs": [],
   "source": [
    "# Updating the gas price tool\n",
    "df.loc[df.index.str.contains(\n",
    "    'https://www.caaquebec.com/fr/sur-la-route/interets-publics/'\n",
    "    'dossier-essence/info-essence'\n",
    "    ), 'Type'] = 'Tool'"
   ]
  },
  {
   "cell_type": "code",
   "execution_count": 6,
   "metadata": {},
   "outputs": [],
   "source": [
    "# update 'les pires routes' to type == contest\n",
    "df.loc[df.index.str.contains('les-pires-routes'), 'Type'] = 'Campaign'"
   ]
  },
  {
   "cell_type": "code",
   "execution_count": 7,
   "metadata": {},
   "outputs": [],
   "source": [
    "# update the \"dossier-essence\" url components\n",
    "df.loc[df.index.str.contains('composantes-du-prix-de-lessenc'), 'Type'] = 'Blog'"
   ]
  },
  {
   "cell_type": "code",
   "execution_count": 8,
   "metadata": {},
   "outputs": [],
   "source": [
    "# update urls containing 'enfant' to type = 'Campaign'\n",
    "df.loc[df.index.str.contains('enfants'), 'Type'] = 'Campaign'"
   ]
  },
  {
   "cell_type": "code",
   "execution_count": 9,
   "metadata": {},
   "outputs": [],
   "source": [
    "# update urls containing 'garage' to type = 'Tool'\n",
    "df.loc[df.index.str.contains('garage'), 'Type'] = 'Tool'"
   ]
  },
  {
   "cell_type": "code",
   "execution_count": 10,
   "metadata": {},
   "outputs": [],
   "source": [
    "# update urls containing 'conseils' to type = 'Blog'\n",
    "df.loc[df.index.str.contains('conseils') , 'Type'] = 'Blog'"
   ]
  },
  {
   "cell_type": "code",
   "execution_count": 11,
   "metadata": {},
   "outputs": [],
   "source": [
    "# update urls containing 'immatriculation et permis' to type = 'Tool'\n",
    "df.loc[df.index.str.contains('immatriculation'), 'Type'] = 'Tool'"
   ]
  },
  {
   "cell_type": "code",
   "execution_count": 12,
   "metadata": {},
   "outputs": [],
   "source": [
    "# update urls containig 'roadside assistance' to type = 'Product'\n",
    "df.loc[df.index.str.contains('routier-durgence'), 'Type'] = 'Product'"
   ]
  },
  {
   "cell_type": "code",
   "execution_count": 13,
   "metadata": {},
   "outputs": [],
   "source": [
    "df.loc[df.index.str.contains(\"itcid\"), 'Type'] = 'Affiliate'"
   ]
  },
  {
   "cell_type": "code",
   "execution_count": 14,
   "metadata": {},
   "outputs": [],
   "source": [
    "df.loc[df.index.str.contains(\"mobilite-durable\"), 'Type'] = 'Product'"
   ]
  },
  {
   "cell_type": "code",
   "execution_count": 15,
   "metadata": {},
   "outputs": [],
   "source": [
    "df.loc[df.index.str.contains(\"mediation-en-cas-de-differend-avec-un-commercant\"), 'Type'] = 'Partnership'"
   ]
  },
  {
   "cell_type": "code",
   "execution_count": 16,
   "metadata": {},
   "outputs": [],
   "source": [
    "df.loc[df.index.str.contains(\"https://www.caaquebec.com/fr/sur-la-route/services/estimation-de-la-valeur-dun-vehicule-doccasion/\"), 'Type'] = 'Tool'"
   ]
  },
  {
   "cell_type": "code",
   "execution_count": 17,
   "metadata": {},
   "outputs": [],
   "source": [
    "df.loc[df.index.str.contains('brigade-scolaire'), 'Type'] = 'Campaign'"
   ]
  },
  {
   "cell_type": "code",
   "execution_count": 18,
   "metadata": {},
   "outputs": [],
   "source": [
    "df.loc[df.index.str.contains('Accueil'), 'Type'] = 'Product'"
   ]
  },
  {
   "cell_type": "code",
   "execution_count": 19,
   "metadata": {},
   "outputs": [],
   "source": [
    "df.loc[df.index.str.contains('advice'), 'Type'] = 'Blog'"
   ]
  },
  {
   "cell_type": "code",
   "execution_count": 20,
   "metadata": {},
   "outputs": [],
   "source": [
    "df.loc[df.index.str.contains('tips'), 'Type'] = 'Blog'"
   ]
  },
  {
   "cell_type": "code",
   "execution_count": 21,
   "metadata": {},
   "outputs": [],
   "source": [
    "df.loc[df.index.str.contains('actualite'), 'Type'] = 'Campaign'"
   ]
  },
  {
   "cell_type": "code",
   "execution_count": 22,
   "metadata": {},
   "outputs": [],
   "source": [
    "df.loc[df.index.str.contains('nous-joindre'), 'Type'] = 'Product'"
   ]
  },
  {
   "cell_type": "code",
   "execution_count": 23,
   "metadata": {},
   "outputs": [],
   "source": [
    "df.loc[(df.index.str.contains('public-interest')), 'Type'] = 'Campaign'"
   ]
  },
  {
   "cell_type": "code",
   "execution_count": 24,
   "metadata": {},
   "outputs": [],
   "source": [
    "df.loc[(df.index.str.contains('/services')), 'Type'] = 'Campaign'"
   ]
  },
  {
   "cell_type": "code",
   "execution_count": 25,
   "metadata": {},
   "outputs": [],
   "source": [
    "df.loc[df.index.str.contains('news'), 'Type'] = 'Campaign'"
   ]
  },
  {
   "cell_type": "code",
   "execution_count": 26,
   "metadata": {},
   "outputs": [],
   "source": [
    "df.loc[df.index.str.contains('approved-auto-repair'), 'Type'] = 'Product'"
   ]
  },
  {
   "cell_type": "code",
   "execution_count": 27,
   "metadata": {},
   "outputs": [],
   "source": [
    "df.loc[df.index.str.contains('hotel'), 'Type'] = 'Campaign'"
   ]
  },
  {
   "cell_type": "code",
   "execution_count": 28,
   "metadata": {},
   "outputs": [],
   "source": [
    "df.loc[df.index.str.contains('Securite_routiere'), 'Type'] = 'Campaign'"
   ]
  },
  {
   "cell_type": "code",
   "execution_count": 29,
   "metadata": {},
   "outputs": [],
   "source": [
    "df.loc[df.index.str.match('https://www.caaquebec.com/fr/a-la-maison/$'), 'Type'] = 'Product'"
   ]
  },
  {
   "cell_type": "code",
   "execution_count": 30,
   "metadata": {},
   "outputs": [],
   "source": [
    "df.loc[df.index.str.contains('entreprises-recommandees'), 'Type'] = 'Partnership'"
   ]
  },
  {
   "cell_type": "code",
   "execution_count": 31,
   "metadata": {},
   "outputs": [],
   "source": [
    "df.loc[df.index.str.match('https://www.caaquebec.com/fr/$'), 'Type'] = 'Product'"
   ]
  },
  {
   "cell_type": "code",
   "execution_count": 32,
   "metadata": {},
   "outputs": [],
   "source": [
    "df.loc[df.index.str.match('https://www.caaquebec.com/en/$'), 'Type'] = 'Product'"
   ]
  },
  {
   "cell_type": "code",
   "execution_count": 33,
   "metadata": {},
   "outputs": [],
   "source": [
    "df.loc[df.index.str.match('https://www.caaquebec.com/en$'), 'Type'] = 'Product'"
   ]
  },
  {
   "cell_type": "code",
   "execution_count": 34,
   "metadata": {},
   "outputs": [],
   "source": [
    "df.loc[df.index.str.contains('RoadTest'), 'Type'] = 'Campaign'"
   ]
  },
  {
   "cell_type": "code",
   "execution_count": 35,
   "metadata": {},
   "outputs": [],
   "source": [
    "df.loc[df.index.str.contains('caa-quebec-foundation'), 'Type'] = 'Product'"
   ]
  },
  {
   "cell_type": "code",
   "execution_count": 36,
   "metadata": {},
   "outputs": [],
   "source": [
    "df.loc[df.index.str.contains('gerer-mon-adhesion'), 'Type'] = 'Product'"
   ]
  },
  {
   "cell_type": "code",
   "execution_count": 37,
   "metadata": {},
   "outputs": [],
   "source": [
    "df.loc[df.index.str.contains('GaragesRecommandes'), 'Type'] = 'Campaign'"
   ]
  },
  {
   "cell_type": "code",
   "execution_count": 38,
   "metadata": {},
   "outputs": [],
   "source": [
    "df.loc[df.index.str.contains('fondation-caa-quebec'), 'Type'] = 'Blog'"
   ]
  },
  {
   "cell_type": "code",
   "execution_count": 39,
   "metadata": {},
   "outputs": [],
   "source": [
    "df.loc[df.index.str.contains('covid-19-coronavirus-sante'), 'Type'] = 'Campaign'"
   ]
  },
  {
   "cell_type": "code",
   "execution_count": 40,
   "metadata": {},
   "outputs": [],
   "source": [
    "df.loc[df.index.str.match('http://www.caaquebec.com/en$'), 'Type'] = 'Product'"
   ]
  },
  {
   "cell_type": "code",
   "execution_count": 41,
   "metadata": {},
   "outputs": [],
   "source": [
    "df.loc[df.index.str.contains('Transport'), 'Type'] = 'Product'"
   ]
  },
  {
   "cell_type": "code",
   "execution_count": 42,
   "metadata": {},
   "outputs": [],
   "source": [
    "df.loc[df.index.str.contains('application-mobile'), 'Type'] = 'Product'"
   ]
  },
  {
   "cell_type": "code",
   "execution_count": 43,
   "metadata": {},
   "outputs": [],
   "source": [
    "df.loc[(df.index.str.contains('trouver-des-rabais')) & (~df.index.str.contains('a-bas-prix-extermination-inc')), 'Type'] = 'Product'"
   ]
  },
  {
   "cell_type": "code",
   "execution_count": 44,
   "metadata": {},
   "outputs": [],
   "source": [
    "df.loc[df.index.str.contains('aquarium-du-quebec'), 'Type'] = 'Partnership'"
   ]
  },
  {
   "cell_type": "code",
   "execution_count": 45,
   "metadata": {},
   "outputs": [],
   "source": [
    "df.loc[df.index.str.contains('index.php\\?id='), 'Type'] = 'Campaign'"
   ]
  },
  {
   "cell_type": "code",
   "execution_count": 46,
   "metadata": {},
   "outputs": [],
   "source": [
    "df.loc[df.index.str.contains('Habitation/\\?lang=fr'), 'Type'] = 'Product'"
   ]
  },
  {
   "cell_type": "code",
   "execution_count": 47,
   "metadata": {},
   "outputs": [],
   "source": [
    "df.loc[df.index.str.contains('Habitation/$'), 'Type'] = 'Product'"
   ]
  },
  {
   "cell_type": "code",
   "execution_count": 48,
   "metadata": {},
   "outputs": [],
   "source": [
    "df.loc[df.index.str.contains('TrucsEtConseils'), 'Type'] = 'Blog'"
   ]
  },
  {
   "cell_type": "code",
   "execution_count": 49,
   "metadata": {},
   "outputs": [],
   "source": [
    "df.loc[(df.index.str.contains('pour-vos-assurances')) & (~df.index.str.contains('conseils')), 'Type'] = 'Product'"
   ]
  },
  {
   "cell_type": "code",
   "execution_count": 50,
   "metadata": {},
   "outputs": [],
   "source": [
    "df.loc[df.index.str.contains('for-your-insurance'), 'Type'] = 'Blog'"
   ]
  },
  {
   "cell_type": "code",
   "execution_count": 51,
   "metadata": {},
   "outputs": [],
   "source": [
    "df.loc['https://www.caaquebec.com/en/caa-dollars-and-discounts/earn-caa-dollars/', 'Type'] = 'Partnership'"
   ]
  },
  {
   "cell_type": "code",
   "execution_count": 52,
   "metadata": {},
   "outputs": [],
   "source": [
    "df.loc['http://www.caaquebec.com/fr', 'Type'] = 'Product'"
   ]
  },
  {
   "cell_type": "code",
   "execution_count": 53,
   "metadata": {},
   "outputs": [],
   "source": [
    "df.loc[df.index.str.contains('anticongestion'), 'Type'] = 'Campaign'"
   ]
  },
  {
   "cell_type": "code",
   "execution_count": 54,
   "metadata": {},
   "outputs": [],
   "source": [
    "df.loc[df.index.str.contains('en-voyage'), 'Type'] = 'Blog'"
   ]
  },
  {
   "cell_type": "code",
   "execution_count": 55,
   "metadata": {},
   "outputs": [],
   "source": [
    "df.loc[df.index.str.contains('AssuranceHabitation'), 'Type'] = 'Partnership'"
   ]
  },
  {
   "cell_type": "code",
   "execution_count": 56,
   "metadata": {},
   "outputs": [],
   "source": [
    "df.loc[df.index.str.contains('/NR/rdonlyres'), 'Type'] = 'Blog'"
   ]
  },
  {
   "cell_type": "code",
   "execution_count": 57,
   "metadata": {},
   "outputs": [],
   "source": [
    "df.loc[df.index.str.contains('esprit_tranquille'), 'Type'] = 'Blog'"
   ]
  },
  {
   "cell_type": "code",
   "execution_count": 58,
   "metadata": {},
   "outputs": [],
   "source": [
    "df.loc[df.index.str.contains('Couts_utilisation'), 'Type'] = 'Campaign'"
   ]
  },
  {
   "cell_type": "code",
   "execution_count": 59,
   "metadata": {},
   "outputs": [],
   "source": [
    "df.loc[df.index.str.contains('/infoessence'), 'Type'] = 'Tool'"
   ]
  },
  {
   "cell_type": "code",
   "execution_count": 60,
   "metadata": {},
   "outputs": [],
   "source": [
    "df.loc[df.index.str.contains('/for-your-travels'), 'Type'] = 'Blog'"
   ]
  },
  {
   "cell_type": "code",
   "execution_count": 61,
   "metadata": {},
   "outputs": [],
   "source": [
    "df.loc[df.index.str.contains('Hotels-Restaurants-Recommandes'), 'Type'] = 'Campaign'"
   ]
  },
  {
   "cell_type": "code",
   "execution_count": 62,
   "metadata": {},
   "outputs": [],
   "source": [
    "df.loc[df.index.str.contains('GrandsDossiers/SubstitutEssence'), 'Type'] = 'Blog'"
   ]
  },
  {
   "cell_type": "code",
   "execution_count": 63,
   "metadata": {},
   "outputs": [],
   "source": [
    "df.loc[df.index.str.contains('/no_fault'), 'Type'] = 'Blog'"
   ]
  },
  {
   "cell_type": "code",
   "execution_count": 64,
   "metadata": {},
   "outputs": [],
   "source": [
    "df.loc[df.index.str.contains('/nids.asp'), 'Type'] = 'Campaign'"
   ]
  },
  {
   "cell_type": "code",
   "execution_count": 65,
   "metadata": {},
   "outputs": [],
   "source": [
    "df.loc[df.index.str.contains('/Magazine_CAA-Quebec'), 'Type'] = 'Campaign'"
   ]
  },
  {
   "cell_type": "code",
   "execution_count": 66,
   "metadata": {},
   "outputs": [],
   "source": [
    "df.loc['http://www.caaquebec.com/Voyage', 'Type'] = 'Tool'"
   ]
  },
  {
   "cell_type": "code",
   "execution_count": 67,
   "metadata": {},
   "outputs": [],
   "source": [
    "df.loc['http://www.caaquebec.com/Voyage/MagasinezEtReservez/Promotions/Offrez-vous-Europe.htm?lang=fr', 'Type'] = 'Campaign'"
   ]
  },
  {
   "cell_type": "code",
   "execution_count": 68,
   "metadata": {},
   "outputs": [
    {
     "data": {
      "text/html": [
       "<div>\n",
       "<style scoped>\n",
       "    .dataframe tbody tr th:only-of-type {\n",
       "        vertical-align: middle;\n",
       "    }\n",
       "\n",
       "    .dataframe tbody tr th {\n",
       "        vertical-align: top;\n",
       "    }\n",
       "\n",
       "    .dataframe thead th {\n",
       "        text-align: right;\n",
       "    }\n",
       "</style>\n",
       "<table border=\"1\" class=\"dataframe\">\n",
       "  <thead>\n",
       "    <tr style=\"text-align: right;\">\n",
       "      <th></th>\n",
       "      <th>Count</th>\n",
       "      <th>Type</th>\n",
       "      <th>keyword</th>\n",
       "    </tr>\n",
       "  </thead>\n",
       "  <tbody>\n",
       "  </tbody>\n",
       "</table>\n",
       "</div>"
      ],
      "text/plain": [
       "Empty DataFrame\n",
       "Columns: [Count, Type, keyword]\n",
       "Index: []"
      ]
     },
     "execution_count": 68,
     "metadata": {},
     "output_type": "execute_result"
    }
   ],
   "source": [
    "df.loc[df.index.str.contains('/adhesion-et-renouvellement')]"
   ]
  },
  {
   "cell_type": "code",
   "execution_count": 69,
   "metadata": {},
   "outputs": [],
   "source": [
    "df.loc[df.index.str.contains('/terms-for-the-use'), 'Type'] = 'Product'"
   ]
  },
  {
   "cell_type": "code",
   "execution_count": 70,
   "metadata": {},
   "outputs": [],
   "source": [
    "df.loc[df.index.str.contains('/fr/emplois'), 'Type'] = 'Product'"
   ]
  },
  {
   "cell_type": "code",
   "execution_count": 71,
   "metadata": {},
   "outputs": [],
   "source": [
    "df.loc[df.index.str.contains('/CommuniquesDePresse'), 'Type'] = 'Campaign'"
   ]
  },
  {
   "cell_type": "code",
   "execution_count": 72,
   "metadata": {},
   "outputs": [],
   "source": [
    "df.loc[df.index.str.contains('/InspectionEvaluationVehicules'), 'Type'] = 'Product'"
   ]
  },
  {
   "cell_type": "code",
   "execution_count": 73,
   "metadata": {},
   "outputs": [],
   "source": [
    "df.loc[df.index.str.contains('/approved-suppliers'), 'Type'] = 'Tool'"
   ]
  },
  {
   "cell_type": "code",
   "execution_count": 74,
   "metadata": {},
   "outputs": [],
   "source": [
    "df.loc[df.index.str.contains('/SiegesEnfants'), 'Type'] = 'Campaign'"
   ]
  },
  {
   "cell_type": "code",
   "execution_count": 75,
   "metadata": {},
   "outputs": [],
   "source": [
    "df.loc[df.index.str.contains('/promo'), 'Type'] = 'Product'"
   ]
  },
  {
   "cell_type": "code",
   "execution_count": 76,
   "metadata": {},
   "outputs": [],
   "source": [
    "df.loc[df.index.str.contains('/Equipe-Media'), 'Type'] = 'Product'"
   ]
  },
  {
   "cell_type": "code",
   "execution_count": 77,
   "metadata": {},
   "outputs": [],
   "source": [
    "df.loc['http://www.caaquebec.com/en/index.asp', 'Type'] = 'Product'"
   ]
  },
  {
   "cell_type": "code",
   "execution_count": 81,
   "metadata": {},
   "outputs": [],
   "source": [
    "df.loc[df.index.str.contains('/magazine-caa-quebec'), 'Type'] = 'Tool'"
   ]
  }
 ],
 "metadata": {
  "kernelspec": {
   "display_name": "Python 3",
   "language": "python",
   "name": "python3"
  },
  "language_info": {
   "codemirror_mode": {
    "name": "ipython",
    "version": 3
   },
   "file_extension": ".py",
   "mimetype": "text/x-python",
   "name": "python",
   "nbconvert_exporter": "python",
   "pygments_lexer": "ipython3",
   "version": "3.10.5"
  },
  "orig_nbformat": 4,
  "vscode": {
   "interpreter": {
    "hash": "eabca979b0553fa6d87e9a00c352604d3b703d4afc9641643dd42376492b80f6"
   }
  }
 },
 "nbformat": 4,
 "nbformat_minor": 2
}
