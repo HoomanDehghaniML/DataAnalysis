{
 "cells": [
  {
   "cell_type": "code",
   "execution_count": 1,
   "metadata": {},
   "outputs": [
    {
     "data": {
      "text/plain": [
       "Index(['Referring page title', 'Referring page URL', 'Language', 'Platform',\n",
       "       'Referring page HTTP code', 'Domain rating', 'UR', 'Domain traffic',\n",
       "       'Referring domains', 'Linked domains', 'External links', 'Page traffic',\n",
       "       'Keywords', 'Target URL', 'Left context', 'Anchor', 'Right context',\n",
       "       'Type', 'Content', 'Nofollow', 'UGC', 'Sponsored', 'Rendered', 'Raw',\n",
       "       'Lost status', 'Drop reason', 'Discovered status', 'First seen',\n",
       "       'Last seen', 'Lost', 'Links in group'],\n",
       "      dtype='object')"
      ]
     },
     "execution_count": 1,
     "metadata": {},
     "output_type": "execute_result"
    }
   ],
   "source": [
    "import pandas as pd\n",
    "import numpy as np\n",
    "\n",
    "pd.set_option('display.max_rows', None)\n",
    "\n",
    "base = pd.read_csv(\n",
    "    r\"G:\\Shared drives\\sq1 - marketing\\seo\\Competitor Analysis\\Data\\www.caaquebec.com-backlinks-subdomains__2023-01-09_10-48-30.csv\"\n",
    ")\n",
    "\n",
    "base.columns"
   ]
  },
  {
   "cell_type": "code",
   "execution_count": 2,
   "metadata": {},
   "outputs": [],
   "source": [
    "# Campaigns include press releases\n",
    "# Shaping the dataframe\n",
    "\n",
    "base = base.drop(\n",
    "    columns = base.columns.difference(\n",
    "        [\n",
    "            'Referring page title', 'Referring page URL', 'Page traffic',\n",
    "            'Target URL'\n",
    "        ]\n",
    "    )\n",
    ")\n",
    "\n",
    "df = pd.DataFrame(base.loc[:, 'Target URL'].value_counts())\n",
    "df = df.rename(columns={\"Target URL\": \"Count\"})\n",
    "df = df.sort_values(by='Count', ascending=False)\n",
    "df.loc[:, [\"Type\", \"keyword\"]] = [\"\", \"\"]"
   ]
  },
  {
   "cell_type": "code",
   "execution_count": 3,
   "metadata": {},
   "outputs": [],
   "source": [
    "# update urls containing 'guide' to type = 'Blog'\n",
    "\n",
    "list = []\n",
    "for index, value in df.loc[:, 'Count'].items():\n",
    "    if 'guide' in index:\n",
    "        list.append(index)\n",
    "df.loc[list, 'Type'] = 'Blog'"
   ]
  },
  {
   "cell_type": "code",
   "execution_count": 4,
   "metadata": {},
   "outputs": [],
   "source": [
    "# updates the home pages to type = 'Product'\n",
    "\n",
    "df.loc[df.index.str.contains(r'^http.+com/$'), 'Type'] = 'Product'"
   ]
  },
  {
   "cell_type": "code",
   "execution_count": 5,
   "metadata": {},
   "outputs": [],
   "source": [
    "# Updating the gas price tool\n",
    "df.loc[df.index.str.contains(\n",
    "    'https://www.caaquebec.com/fr/sur-la-route/interets-publics/'\n",
    "    'dossier-essence/info-essence'\n",
    "    ), 'Type'] = 'Tool'"
   ]
  },
  {
   "cell_type": "code",
   "execution_count": 6,
   "metadata": {},
   "outputs": [],
   "source": [
    "# update 'les pires routes' to type == contest\n",
    "df.loc[df.index.str.contains('les-pires-routes'), 'Type'] = 'Campaign'"
   ]
  },
  {
   "cell_type": "code",
   "execution_count": 7,
   "metadata": {},
   "outputs": [],
   "source": [
    "# update the \"dossier-essence\" url components\n",
    "df.loc[df.index.str.contains('composantes-du-prix-de-lessenc'), 'Type'] = 'Blog'"
   ]
  },
  {
   "cell_type": "code",
   "execution_count": 8,
   "metadata": {},
   "outputs": [],
   "source": [
    "# update urls containing 'enfant' to type = 'Campaign'\n",
    "df.loc[df.index.str.contains('enfants'), 'Type'] = 'Campaign'"
   ]
  },
  {
   "cell_type": "code",
   "execution_count": 9,
   "metadata": {},
   "outputs": [],
   "source": [
    "# update urls containing 'garage' to type = 'Tool'\n",
    "df.loc[df.index.str.contains('garage'), 'Type'] = 'Tool'"
   ]
  },
  {
   "cell_type": "code",
   "execution_count": 10,
   "metadata": {},
   "outputs": [],
   "source": [
    "# update urls containing 'conseils' to type = 'Blog'\n",
    "df.loc[df.index.str.contains('conseils') , 'Type'] = 'Blog'"
   ]
  },
  {
   "cell_type": "code",
   "execution_count": 11,
   "metadata": {},
   "outputs": [],
   "source": [
    "# update urls containing 'immatriculation et permis' to type = 'Tool'\n",
    "df.loc[df.index.str.contains('immatriculation'), 'Type'] = 'Tool'"
   ]
  },
  {
   "cell_type": "code",
   "execution_count": 12,
   "metadata": {},
   "outputs": [],
   "source": [
    "# update urls containig 'roadside assistance' to type = 'Product'\n",
    "df.loc[df.index.str.contains('routier-durgence'), 'Type'] = 'Product'"
   ]
  },
  {
   "cell_type": "code",
   "execution_count": 13,
   "metadata": {},
   "outputs": [],
   "source": [
    "df.loc[df.index.str.contains(\"itcid\"), 'Type'] = 'Affiliate'"
   ]
  },
  {
   "cell_type": "code",
   "execution_count": 14,
   "metadata": {},
   "outputs": [],
   "source": [
    "df.loc[df.index.str.contains(\"mobilite-durable\"), 'Type'] = 'Product'"
   ]
  },
  {
   "cell_type": "code",
   "execution_count": 15,
   "metadata": {},
   "outputs": [],
   "source": [
    "df.loc[df.index.str.contains(\"mediation-en-cas-de-differend-avec-un-commercant\"), 'Type'] = 'Partnership'"
   ]
  },
  {
   "cell_type": "code",
   "execution_count": 16,
   "metadata": {},
   "outputs": [],
   "source": [
    "df.loc[df.index.str.contains(\"https://www.caaquebec.com/fr/sur-la-route/services/estimation-de-la-valeur-dun-vehicule-doccasion/\"), 'Type'] = 'Tool'"
   ]
  },
  {
   "cell_type": "code",
   "execution_count": 17,
   "metadata": {},
   "outputs": [],
   "source": [
    "df.loc[df.index.str.contains('brigade-scolaire'), 'Type'] = 'Campaign'"
   ]
  },
  {
   "cell_type": "code",
   "execution_count": 20,
   "metadata": {},
   "outputs": [],
   "source": [
    "df.loc[df.index.str.contains('Accueil'), 'Type'] = 'Product'"
   ]
  },
  {
   "cell_type": "code",
   "execution_count": 22,
   "metadata": {},
   "outputs": [],
   "source": [
    "df.loc[df.index.str.contains('advice'), 'Type'] = 'Blog'"
   ]
  },
  {
   "cell_type": "code",
   "execution_count": 24,
   "metadata": {},
   "outputs": [],
   "source": [
    "df.loc[df.index.str.contains('tips'), 'Type'] = 'Blog'"
   ]
  },
  {
   "cell_type": "code",
   "execution_count": 27,
   "metadata": {},
   "outputs": [],
   "source": [
    "df.loc[df.index.str.contains('actualite'), 'Type'] = 'Campaign'"
   ]
  },
  {
   "cell_type": "code",
   "execution_count": 30,
   "metadata": {},
   "outputs": [],
   "source": [
    "df.loc[df.index.str.contains('nous-joindre'), 'Type'] = 'Product'"
   ]
  },
  {
   "cell_type": "code",
   "execution_count": 42,
   "metadata": {},
   "outputs": [
    {
     "data": {
      "text/html": [
       "<div>\n",
       "<style scoped>\n",
       "    .dataframe tbody tr th:only-of-type {\n",
       "        vertical-align: middle;\n",
       "    }\n",
       "\n",
       "    .dataframe tbody tr th {\n",
       "        vertical-align: top;\n",
       "    }\n",
       "\n",
       "    .dataframe thead th {\n",
       "        text-align: right;\n",
       "    }\n",
       "</style>\n",
       "<table border=\"1\" class=\"dataframe\">\n",
       "  <thead>\n",
       "    <tr style=\"text-align: right;\">\n",
       "      <th></th>\n",
       "      <th>Count</th>\n",
       "      <th>Type</th>\n",
       "      <th>keyword</th>\n",
       "    </tr>\n",
       "  </thead>\n",
       "  <tbody>\n",
       "    <tr>\n",
       "      <th>https://www.caaquebec.com/en/on-the-road/approved-auto-repair-services/</th>\n",
       "      <td>4</td>\n",
       "      <td></td>\n",
       "      <td></td>\n",
       "    </tr>\n",
       "    <tr>\n",
       "      <th>https://www.caaquebec.com/en/on-the-road/public-interest/worst-roads/</th>\n",
       "      <td>3</td>\n",
       "      <td>Campaign</td>\n",
       "      <td></td>\n",
       "    </tr>\n",
       "    <tr>\n",
       "      <th>https://www.caaquebec.com/en/on-the-road/public-interest/gasoline-matters/gasoline-watch/</th>\n",
       "      <td>3</td>\n",
       "      <td>Campaign</td>\n",
       "      <td></td>\n",
       "    </tr>\n",
       "    <tr>\n",
       "      <th>https://www.caaquebec.com/en/on-the-road/guides/buying-or-leasing-my-car/new-or-used-how-to-choose/</th>\n",
       "      <td>1</td>\n",
       "      <td>Blog</td>\n",
       "      <td></td>\n",
       "    </tr>\n",
       "    <tr>\n",
       "      <th>https://www.caaquebec.com/en/on-the-road/public-interest/road-safety/photo-radar-and-red-light-cameras/</th>\n",
       "      <td>1</td>\n",
       "      <td>Campaign</td>\n",
       "      <td></td>\n",
       "    </tr>\n",
       "    <tr>\n",
       "      <th>https://www.caaquebec.com/en/on-the-road/services/child-car-seat-verification-network/</th>\n",
       "      <td>1</td>\n",
       "      <td>Campaign</td>\n",
       "      <td></td>\n",
       "    </tr>\n",
       "    <tr>\n",
       "      <th>http://www.caaquebec.com/en/on-the-road/services/child-car-seat/</th>\n",
       "      <td>1</td>\n",
       "      <td>Campaign</td>\n",
       "      <td></td>\n",
       "    </tr>\n",
       "    <tr>\n",
       "      <th>https://www.caaquebec.com/en/on-the-road/guides/buying-or-leasing-my-car/maintenance-when-and-how/</th>\n",
       "      <td>1</td>\n",
       "      <td>Blog</td>\n",
       "      <td></td>\n",
       "    </tr>\n",
       "    <tr>\n",
       "      <th>https://www.caaquebec.com/en/news/news/article/caa-quebec-charges-electric-vehicles-on-the-road-1/</th>\n",
       "      <td>1</td>\n",
       "      <td></td>\n",
       "      <td></td>\n",
       "    </tr>\n",
       "    <tr>\n",
       "      <th>https://www.caaquebec.com/en/on-the-road/services/registration-and-drivers-licence/</th>\n",
       "      <td>1</td>\n",
       "      <td>Campaign</td>\n",
       "      <td></td>\n",
       "    </tr>\n",
       "  </tbody>\n",
       "</table>\n",
       "</div>"
      ],
      "text/plain": [
       "                                                    Count      Type keyword\n",
       "https://www.caaquebec.com/en/on-the-road/approv...      4                  \n",
       "https://www.caaquebec.com/en/on-the-road/public...      3  Campaign        \n",
       "https://www.caaquebec.com/en/on-the-road/public...      3  Campaign        \n",
       "https://www.caaquebec.com/en/on-the-road/guides...      1      Blog        \n",
       "https://www.caaquebec.com/en/on-the-road/public...      1  Campaign        \n",
       "https://www.caaquebec.com/en/on-the-road/servic...      1  Campaign        \n",
       "http://www.caaquebec.com/en/on-the-road/service...      1  Campaign        \n",
       "https://www.caaquebec.com/en/on-the-road/guides...      1      Blog        \n",
       "https://www.caaquebec.com/en/news/news/article/...      1                  \n",
       "https://www.caaquebec.com/en/on-the-road/servic...      1  Campaign        "
      ]
     },
     "execution_count": 42,
     "metadata": {},
     "output_type": "execute_result"
    }
   ],
   "source": [
    "df.loc[(df.index.str.contains('on-the-road')) & (~df.index.str.contains('advice')),]"
   ]
  },
  {
   "cell_type": "code",
   "execution_count": 38,
   "metadata": {},
   "outputs": [],
   "source": [
    "df.loc[(df.index.str.contains('public-interest')), 'Type'] = 'Campaign'"
   ]
  },
  {
   "cell_type": "code",
   "execution_count": 43,
   "metadata": {},
   "outputs": [],
   "source": [
    "df.loc[(df.index.str.contains('/services')), 'Type'] = 'Campaign'"
   ]
  },
  {
   "cell_type": "code",
   "execution_count": 44,
   "metadata": {},
   "outputs": [
    {
     "data": {
      "text/html": [
       "<div>\n",
       "<style scoped>\n",
       "    .dataframe tbody tr th:only-of-type {\n",
       "        vertical-align: middle;\n",
       "    }\n",
       "\n",
       "    .dataframe tbody tr th {\n",
       "        vertical-align: top;\n",
       "    }\n",
       "\n",
       "    .dataframe thead th {\n",
       "        text-align: right;\n",
       "    }\n",
       "</style>\n",
       "<table border=\"1\" class=\"dataframe\">\n",
       "  <thead>\n",
       "    <tr style=\"text-align: right;\">\n",
       "      <th></th>\n",
       "      <th>Count</th>\n",
       "      <th>Type</th>\n",
       "      <th>keyword</th>\n",
       "    </tr>\n",
       "  </thead>\n",
       "  <tbody>\n",
       "    <tr>\n",
       "      <th>https://www.caaquebec.com/en/news/press-releases/article/speeding-in-school-zones-is-spine-chilling</th>\n",
       "      <td>3</td>\n",
       "      <td></td>\n",
       "      <td></td>\n",
       "    </tr>\n",
       "    <tr>\n",
       "      <th>https://www.caaquebec.com/en/news/press-releases/article/the-myth-is-true-quebec-has-the-worst-roads/</th>\n",
       "      <td>3</td>\n",
       "      <td></td>\n",
       "      <td></td>\n",
       "    </tr>\n",
       "    <tr>\n",
       "      <th>https://www.caaquebec.com/en/news/news/article/new-study-and-ranking-to-answer-concerns-about-rust/</th>\n",
       "      <td>1</td>\n",
       "      <td></td>\n",
       "      <td></td>\n",
       "    </tr>\n",
       "    <tr>\n",
       "      <th>https://www.caaquebec.com/en/news/news/article/votre-permis-de-conduire-valide-aux-etats-unis-tout-a-fait/</th>\n",
       "      <td>1</td>\n",
       "      <td></td>\n",
       "      <td></td>\n",
       "    </tr>\n",
       "    <tr>\n",
       "      <th>https://www.caaquebec.com/en/news/press-releases/article/idp-state-of-georgia-follows-up-on-requests-from-caa-quebec/</th>\n",
       "      <td>1</td>\n",
       "      <td></td>\n",
       "      <td></td>\n",
       "    </tr>\n",
       "    <tr>\n",
       "      <th>https://www.caaquebec.com/en/news/press-releases/article/caa-quebec-lance-la-semaine-nationale-de-prise-de-rendez-vous-pour-les-pneus-dhiver/</th>\n",
       "      <td>1</td>\n",
       "      <td></td>\n",
       "      <td></td>\n",
       "    </tr>\n",
       "    <tr>\n",
       "      <th>https://www.caaquebec.com/en/news/news/article/les-vehicules-de-forte-cylindree-nechappent-pas-a-la-hausse/</th>\n",
       "      <td>1</td>\n",
       "      <td></td>\n",
       "      <td></td>\n",
       "    </tr>\n",
       "    <tr>\n",
       "      <th>https://www.caaquebec.com/en/news/news/article/caa-quebec-charges-electric-vehicles-on-the-road-1/</th>\n",
       "      <td>1</td>\n",
       "      <td></td>\n",
       "      <td></td>\n",
       "    </tr>\n",
       "    <tr>\n",
       "      <th>https://www.caaquebec.com/en/news/news/article/le-formulaire-8840-un-essentiel-apres-plusieurs-longs-sejours-aux-etats-unis/</th>\n",
       "      <td>1</td>\n",
       "      <td></td>\n",
       "      <td></td>\n",
       "    </tr>\n",
       "    <tr>\n",
       "      <th>https://www.caaquebec.com/en/news/news/article/canadians-unclear-about-true-cost-of-owning-a-vehicle/</th>\n",
       "      <td>1</td>\n",
       "      <td></td>\n",
       "      <td></td>\n",
       "    </tr>\n",
       "    <tr>\n",
       "      <th>https://www.caaquebec.com/en/news/news/article/une-etude-et-un-palmares-pour-contrer-la-rouille/</th>\n",
       "      <td>1</td>\n",
       "      <td></td>\n",
       "      <td></td>\n",
       "    </tr>\n",
       "    <tr>\n",
       "      <th>https://www.caaquebec.com/en/news/news/article/54-of-snowbirds-still-hope-to-go-south-this-year/</th>\n",
       "      <td>1</td>\n",
       "      <td></td>\n",
       "      <td></td>\n",
       "    </tr>\n",
       "    <tr>\n",
       "      <th>https://www.caaquebec.com/en/news/press-releases/article/prix-de-lessence-en-2015-un-repit-pour-certains-et-un-constat-brutal-pour-montreal/</th>\n",
       "      <td>1</td>\n",
       "      <td></td>\n",
       "      <td></td>\n",
       "    </tr>\n",
       "  </tbody>\n",
       "</table>\n",
       "</div>"
      ],
      "text/plain": [
       "                                                    Count Type keyword\n",
       "https://www.caaquebec.com/en/news/press-release...      3             \n",
       "https://www.caaquebec.com/en/news/press-release...      3             \n",
       "https://www.caaquebec.com/en/news/news/article/...      1             \n",
       "https://www.caaquebec.com/en/news/news/article/...      1             \n",
       "https://www.caaquebec.com/en/news/press-release...      1             \n",
       "https://www.caaquebec.com/en/news/press-release...      1             \n",
       "https://www.caaquebec.com/en/news/news/article/...      1             \n",
       "https://www.caaquebec.com/en/news/news/article/...      1             \n",
       "https://www.caaquebec.com/en/news/news/article/...      1             \n",
       "https://www.caaquebec.com/en/news/news/article/...      1             \n",
       "https://www.caaquebec.com/en/news/news/article/...      1             \n",
       "https://www.caaquebec.com/en/news/news/article/...      1             \n",
       "https://www.caaquebec.com/en/news/press-release...      1             "
      ]
     },
     "execution_count": 44,
     "metadata": {},
     "output_type": "execute_result"
    }
   ],
   "source": [
    "df.loc[df.index.str.contains('news'), 'Type'] = 'Campaign'"
   ]
  },
  {
   "cell_type": "code",
   "execution_count": 31,
   "metadata": {},
   "outputs": [
    {
     "data": {
      "text/html": [
       "<div>\n",
       "<style scoped>\n",
       "    .dataframe tbody tr th:only-of-type {\n",
       "        vertical-align: middle;\n",
       "    }\n",
       "\n",
       "    .dataframe tbody tr th {\n",
       "        vertical-align: top;\n",
       "    }\n",
       "\n",
       "    .dataframe thead th {\n",
       "        text-align: right;\n",
       "    }\n",
       "</style>\n",
       "<table border=\"1\" class=\"dataframe\">\n",
       "  <thead>\n",
       "    <tr style=\"text-align: right;\">\n",
       "      <th></th>\n",
       "      <th>Count</th>\n",
       "      <th>Type</th>\n",
       "      <th>keyword</th>\n",
       "    </tr>\n",
       "  </thead>\n",
       "  <tbody>\n",
       "    <tr>\n",
       "      <th>http://www.caaquebec.com/</th>\n",
       "      <td>48</td>\n",
       "      <td>Product</td>\n",
       "      <td></td>\n",
       "    </tr>\n",
       "    <tr>\n",
       "      <th>https://www.caaquebec.com/</th>\n",
       "      <td>31</td>\n",
       "      <td>Product</td>\n",
       "      <td></td>\n",
       "    </tr>\n",
       "    <tr>\n",
       "      <th>https://www.caaquebec.com/fr/sur-la-route/interets-publics/les-pires-routes/</th>\n",
       "      <td>11</td>\n",
       "      <td>Campaign</td>\n",
       "      <td></td>\n",
       "    </tr>\n",
       "    <tr>\n",
       "      <th>https://www.caaquebec.com/fr/</th>\n",
       "      <td>10</td>\n",
       "      <td></td>\n",
       "      <td></td>\n",
       "    </tr>\n",
       "    <tr>\n",
       "      <th>http://www.caaquebec.com/Accueil/</th>\n",
       "      <td>8</td>\n",
       "      <td>Product</td>\n",
       "      <td></td>\n",
       "    </tr>\n",
       "    <tr>\n",
       "      <th>https://www.caaquebec.com/en/</th>\n",
       "      <td>7</td>\n",
       "      <td></td>\n",
       "      <td></td>\n",
       "    </tr>\n",
       "    <tr>\n",
       "      <th>https://www.caaquebec.com/en/on-the-road/advice/tips-and-tricks/tip-and-trick/show/sujet/windshield-wipers-everything-you-need-to-know/</th>\n",
       "      <td>6</td>\n",
       "      <td>Blog</td>\n",
       "      <td></td>\n",
       "    </tr>\n",
       "    <tr>\n",
       "      <th>https://www.caaquebec.com/fr/actualite/nouvelles/article/pneus-dhiver-cest-pas-ce-que-je-cherche/</th>\n",
       "      <td>6</td>\n",
       "      <td>Campaign</td>\n",
       "      <td></td>\n",
       "    </tr>\n",
       "    <tr>\n",
       "      <th>https://www.caaquebec.com/fr/sur-la-route/interets-publics/les-pires-routes/palmares-2022-par-regions/</th>\n",
       "      <td>5</td>\n",
       "      <td>Campaign</td>\n",
       "      <td></td>\n",
       "    </tr>\n",
       "    <tr>\n",
       "      <th>https://www.caaquebec.com/fr</th>\n",
       "      <td>5</td>\n",
       "      <td></td>\n",
       "      <td></td>\n",
       "    </tr>\n",
       "    <tr>\n",
       "      <th>https://www.caaquebec.com/fr/sur-la-route/interets-publics/dossier-essence/composantes-du-prix-de-lessence/</th>\n",
       "      <td>5</td>\n",
       "      <td>Blog</td>\n",
       "      <td></td>\n",
       "    </tr>\n",
       "    <tr>\n",
       "      <th>https://www.caaquebec.com/fr/nous-joindre/centres-dinspection-automobile/</th>\n",
       "      <td>5</td>\n",
       "      <td>Product</td>\n",
       "      <td></td>\n",
       "    </tr>\n",
       "    <tr>\n",
       "      <th>https://www.caaquebec.com/fr/sur-la-route/interets-publics/dossier-essence/info-essence/</th>\n",
       "      <td>5</td>\n",
       "      <td>Tool</td>\n",
       "      <td></td>\n",
       "    </tr>\n",
       "    <tr>\n",
       "      <th>https://www.caaquebec.com/en/on-the-road/advice/tips-and-tricks/tip-and-trick/show/sujet/driving-an-electric-vehicle-in-winter/</th>\n",
       "      <td>4</td>\n",
       "      <td>Blog</td>\n",
       "      <td></td>\n",
       "    </tr>\n",
       "    <tr>\n",
       "      <th>https://www.caaquebec.com/en/on-the-road/approved-auto-repair-services/</th>\n",
       "      <td>4</td>\n",
       "      <td></td>\n",
       "      <td></td>\n",
       "    </tr>\n",
       "    <tr>\n",
       "      <th>https://www.caaquebec.com/fr/sur-la-route/interets-publics/les-pires-routes/palmares-2016-par-regions/</th>\n",
       "      <td>4</td>\n",
       "      <td>Campaign</td>\n",
       "      <td></td>\n",
       "    </tr>\n",
       "    <tr>\n",
       "      <th>http://www.caaquebec.com/Accueil/Index.htm?lang=en</th>\n",
       "      <td>4</td>\n",
       "      <td>Product</td>\n",
       "      <td></td>\n",
       "    </tr>\n",
       "    <tr>\n",
       "      <th>https://www.caaquebec.com/en/on-the-road/advice/tips-and-tricks/tip-and-trick/show/sujet/save-money-on-gas-15-simple-things-you-can-start-doing-today/</th>\n",
       "      <td>4</td>\n",
       "      <td>Blog</td>\n",
       "      <td></td>\n",
       "    </tr>\n",
       "    <tr>\n",
       "      <th>https://www.caaquebec.com/en/news/press-releases/article/speeding-in-school-zones-is-spine-chilling</th>\n",
       "      <td>3</td>\n",
       "      <td></td>\n",
       "      <td></td>\n",
       "    </tr>\n",
       "    <tr>\n",
       "      <th>https://www.caaquebec.com/en/at-home/guides/reshingling-your-roof/identifying-the-parts-of-the-roof-and-understanding-their-functions/</th>\n",
       "      <td>3</td>\n",
       "      <td>Blog</td>\n",
       "      <td></td>\n",
       "    </tr>\n",
       "  </tbody>\n",
       "</table>\n",
       "</div>"
      ],
      "text/plain": [
       "                                                    Count      Type keyword\n",
       "http://www.caaquebec.com/                              48   Product        \n",
       "https://www.caaquebec.com/                             31   Product        \n",
       "https://www.caaquebec.com/fr/sur-la-route/inter...     11  Campaign        \n",
       "https://www.caaquebec.com/fr/                          10                  \n",
       "http://www.caaquebec.com/Accueil/                       8   Product        \n",
       "https://www.caaquebec.com/en/                           7                  \n",
       "https://www.caaquebec.com/en/on-the-road/advice...      6      Blog        \n",
       "https://www.caaquebec.com/fr/actualite/nouvelle...      6  Campaign        \n",
       "https://www.caaquebec.com/fr/sur-la-route/inter...      5  Campaign        \n",
       "https://www.caaquebec.com/fr                            5                  \n",
       "https://www.caaquebec.com/fr/sur-la-route/inter...      5      Blog        \n",
       "https://www.caaquebec.com/fr/nous-joindre/centr...      5   Product        \n",
       "https://www.caaquebec.com/fr/sur-la-route/inter...      5      Tool        \n",
       "https://www.caaquebec.com/en/on-the-road/advice...      4      Blog        \n",
       "https://www.caaquebec.com/en/on-the-road/approv...      4                  \n",
       "https://www.caaquebec.com/fr/sur-la-route/inter...      4  Campaign        \n",
       "http://www.caaquebec.com/Accueil/Index.htm?lang=en      4   Product        \n",
       "https://www.caaquebec.com/en/on-the-road/advice...      4      Blog        \n",
       "https://www.caaquebec.com/en/news/press-release...      3                  \n",
       "https://www.caaquebec.com/en/at-home/guides/res...      3      Blog        "
      ]
     },
     "execution_count": 31,
     "metadata": {},
     "output_type": "execute_result"
    }
   ],
   "source": [
    "df.iloc[0:20,:]"
   ]
  }
 ],
 "metadata": {
  "kernelspec": {
   "display_name": "Python 3",
   "language": "python",
   "name": "python3"
  },
  "language_info": {
   "codemirror_mode": {
    "name": "ipython",
    "version": 3
   },
   "file_extension": ".py",
   "mimetype": "text/x-python",
   "name": "python",
   "nbconvert_exporter": "python",
   "pygments_lexer": "ipython3",
   "version": "3.10.5"
  },
  "orig_nbformat": 4,
  "vscode": {
   "interpreter": {
    "hash": "eabca979b0553fa6d87e9a00c352604d3b703d4afc9641643dd42376492b80f6"
   }
  }
 },
 "nbformat": 4,
 "nbformat_minor": 2
}
