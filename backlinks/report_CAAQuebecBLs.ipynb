{
 "cells": [
  {
   "cell_type": "code",
   "execution_count": 1,
   "metadata": {},
   "outputs": [],
   "source": [
    "import pandas as pd\n",
    "from matplotlib import pyplot as plt"
   ]
  },
  {
   "cell_type": "code",
   "execution_count": 2,
   "metadata": {},
   "outputs": [
    {
     "name": "stderr",
     "output_type": "stream",
     "text": [
      "No artists with labels found to put in legend.  Note that artists whose label start with an underscore are ignored when legend() is called with no argument.\n"
     ]
    },
    {
     "data": {
      "image/png": "[encoded data removed]",
      "text/plain": [
       "<Figure size 432x288 with 1 Axes>"
      ]
     },
     "metadata": {
      "needs_background": "light"
     },
     "output_type": "display_data"
    }
   ],
   "source": [
    "df = pd.read_csv(\n",
    "    'Polished_CAAQuebecBLs.csv',\n",
    "    index_col='Unnamed: 0',\n",
    ")\n",
    "\n",
    "rp = df.groupby(\"Type\").sum()\n",
    "rp_html = rp.to_html()\n",
    "\n",
    "fig, ax = plt.subplots()\n",
    "\n",
    "ax.bar(x=rp.index, height=rp.loc[:, \"Count\"], width=0.25)\n",
    "ax.set_ylabel('Number of backlinks', fontweight='bold')\n",
    "ax.set_xlabel('Backlink Type', fontweight='bold')\n",
    "fig.legend()\n",
    "fig.savefig(r'G:\\Shared drives\\sq1 - marketing\\seo\\Competitor Analysis\\Backlinks\\CAAQuebecBLs 2023 Q1\\Data\\fig_1.png')\n"
   ]
  },
  {
   "cell_type": "code",
   "execution_count": 5,
   "metadata": {},
   "outputs": [],
   "source": [
    "# Save the html content\n",
    "HTML_content = fr\"\"\"\n",
    "<!DOCTYPE html>\n",
    "<html>\n",
    "<body>\n",
    "    <title><center>CAAQuebec Backlink Types</center></title>\n",
    "    <h1>Summary</h1>\n",
    "    <ul>\n",
    "        <li>Informational blog posts and press releases make up the largest group of CAA Quebec's backlinks.</li>\n",
    "        <li>On first glance, a smaller portion of CAA Quebec's 50+ DR backlink profile is composed of campaigns and promotions. This is in contrast to their BC counterpart, BCAA, who get a large portion of their 50+ DR links from campaigns and contests.</li>\n",
    "        <li>CAAQuebec has a handful of 50+ DR backlinks from tools that seem rather easy to make. Examples: <a href=\"https://www.caaquebec.com/fr/sur-la-route/interets-publics/dossier-essence/info-essence-1\">1</a> <a href=\"https://www.caaquebec.com/fr/sur-la-route/garages-recommandes/\">2</a> <a href=\"https://www.caaquebec.com/en/at-home/approved-suppliers/\">3</a></li>\n",
    "    </ul>\n",
    "\n",
    "    <h1>Manual</h1>\n",
    "\n",
    "    <h2>Types</h2>\n",
    "\n",
    "    <h3>Blog</h3>\n",
    "    <p>\n",
    "        Blog links come from content marketing. Examples are articles and informational press releases that lack any original research.\n",
    "    </p>\n",
    "\n",
    "    <h3>Partnership</h3>\n",
    "    <p>\n",
    "        Partnership links are a result of working with other companies. Examples include affiliates and business partnerships.\n",
    "    </p>\n",
    "\n",
    "    <h3>Campaign</h3>\n",
    "    <p>\n",
    "        Campaign links are made possible by the combined effort of content marketing and PR teams. Examples are contests, original research, surveys, and old-style PDF magazines.\n",
    "    </p>\n",
    "\n",
    "    <h3>Product</h3>\n",
    "    <p>\n",
    "        If the target page is a product page that lacks any signs of a partnership or campaign, the link is categorized as a product link. Note that the number of campaign and partnerships should be significantly higher and the number of pure product links should be significantly lower, because I did not analyze the referring pages.\n",
    "    </p>\n",
    "\n",
    "    <h3>Tool</h3>\n",
    "    <p>Examples include a tool to compare gas prices at a glance or a \"garage recommender\".</p>\n",
    "\n",
    "    <center>{rp_html}</center>\n",
    "\n",
    "    <center><img src=\"G:\\Shared drives\\sq1 - marketing\\seo\\Competitor Analysis\\Backlinks\\CAAQuebecBLs 2023 Q1\\Data\\fig_1.png\" alt=\"Bar graph showing the findings\"</center>\n",
    "    \n",
    "</body>\n",
    "</html>\n",
    "\n",
    "\n",
    "\"\"\""
   ]
  },
  {
   "cell_type": "code",
   "execution_count": 4,
   "metadata": {},
   "outputs": [],
   "source": [
    "with open(r\"G:\\Shared drives\\sq1 - marketing\\seo\\Competitor Analysis\\Backlinks\\CAAQuebecBLs 2023 Q1\\Summary.html\", \"w\") as file:\n",
    "    file.write(HTML_content)"
   ]
  },
  {
   "cell_type": "markdown",
   "metadata": {},
   "source": []
  }
 ],
 "metadata": {
  "kernelspec": {
   "display_name": "Python 3",
   "language": "python",
   "name": "python3"
  },
  "language_info": {
   "codemirror_mode": {
    "name": "ipython",
    "version": 3
   },
   "file_extension": ".py",
   "mimetype": "text/x-python",
   "name": "python",
   "nbconvert_exporter": "python",
   "pygments_lexer": "ipython3",
   "version": "3.10.5"
  },
  "orig_nbformat": 4
 },
 "nbformat": 4,
 "nbformat_minor": 2
}
