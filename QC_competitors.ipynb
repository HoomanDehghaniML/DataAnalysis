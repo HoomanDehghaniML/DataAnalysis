{
 "cells": [
  {
   "cell_type": "code",
   "execution_count": 7,
   "metadata": {},
   "outputs": [],
   "source": [
    "### imports and dataframe setup ###\n",
    "import pandas as pd\n",
    "import numpy as np\n",
    "\n",
    "from matplotlib import pyplot as plt\n",
    "\n",
    "base = pd.read_csv(r\"C:\\Users\\Work\\Downloads\\Competitor rankings.csv\", index_col = \"Company\")\n",
    "\n",
    "\n",
    "# what is the goal? i want to find the strongest competitors. first, find all the competitors who have a \"1\" ranking.\n",
    "\n",
    "rank_1s = []\n",
    "\n",
    "for label, column in base.items():\n",
    "    for index, value in column.items():\n",
    "        if value == 1:\n",
    "            rank_1s.append({label: index})\n"
   ]
  },
  {
   "cell_type": "code",
   "execution_count": 13,
   "metadata": {},
   "outputs": [
    {
     "data": {
      "text/plain": [
       "Company\n",
       "Cooperators       2.5\n",
       "CAA Quebec        4.5\n",
       "KBD Insurance     7.0\n",
       "Square One        7.5\n",
       "Beneva            7.5\n",
       "Desjardins        9.0\n",
       "TD               10.5\n",
       "RBC Insurance    11.0\n",
       "Intact           15.5\n",
       "Allstate         15.5\n",
       "Belairdirect     28.0\n",
       "Clicassure       29.0\n",
       "Assurancia       32.5\n",
       "Jeparsau         57.0\n",
       "dtype: float64"
      ]
     },
     "execution_count": 13,
     "metadata": {},
     "output_type": "execute_result"
    }
   ],
   "source": [
    "# Find the competitors with best overall strength\n",
    "base.median(axis=1).sort_values(ascending=True)"
   ]
  },
  {
   "cell_type": "code",
   "execution_count": 6,
   "metadata": {},
   "outputs": [],
   "source": [
    "# Write to html file and paste it next to the QC Report\n",
    "with open(r\"G:\\Shared drives\\sq1 - marketing\\seo\\Reports\\Product Page Analysis\\QC q4 2022\\Competitors.html\", 'w') as file:\n",
    "    file.write(\n",
    "        f\"\"\"<p>\n",
    "        Competitors that have ranked 1st for a keyword:<br>\n",
    "        {rank_1s[0:3]}<br>\n",
    "        {rank_1s[3:]}\n",
    "        </p>\"\"\"\n",
    "    )"
   ]
  }
 ],
 "metadata": {
  "kernelspec": {
   "display_name": "Python 3.10.7 64-bit",
   "language": "python",
   "name": "python3"
  },
  "language_info": {
   "codemirror_mode": {
    "name": "ipython",
    "version": 3
   },
   "file_extension": ".py",
   "mimetype": "text/x-python",
   "name": "python",
   "nbconvert_exporter": "python",
   "pygments_lexer": "ipython3",
   "version": "3.10.7"
  },
  "orig_nbformat": 4,
  "vscode": {
   "interpreter": {
    "hash": "722ef51a401571ea5d31114c5f39d03026e92f336ebdc61df902fc724a2c7297"
   }
  }
 },
 "nbformat": 4,
 "nbformat_minor": 2
}
