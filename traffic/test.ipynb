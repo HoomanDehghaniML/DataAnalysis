{
 "cells": [
  {
   "cell_type": "code",
   "execution_count": 1,
   "metadata": {},
   "outputs": [
    {
     "name": "stderr",
     "output_type": "stream",
     "text": [
      "C:\\Users\\Hooman Deghani\\AppData\\Local\\Temp\\ipykernel_14192\\2543247844.py:10: FutureWarning: In a future version, `df.iloc[:, i] = newvals` will attempt to set the values inplace instead of always setting a new array. To retain the old behavior, use either `df[df.columns[i]] = newvals` or, if columns are non-unique, `df.isetitem(i, newvals)`\n",
      "  base.loc[:, 'period'] = pd.to_datetime(base.loc[:, 'period'])\n"
     ]
    }
   ],
   "source": [
    "import pandas as pd\n",
    "import numpy as np\n",
    "\n",
    "pd.set_option('display.max_rows', 20)\n",
    "\n",
    "base = pd.read_csv(\n",
    "    r\"C:\\Users\\Hooman Deghani\\OneDrive\\PC\\Desktop\\Current Datasets\\quote activity by page.csv\"\n",
    ")\n",
    "\n",
    "base.loc[:, 'period'] = pd.to_datetime(base.loc[:, 'period'])"
   ]
  },
  {
   "cell_type": "code",
   "execution_count": 2,
   "metadata": {},
   "outputs": [
    {
     "data": {
      "text/html": [
       "<div>\n",
       "<style scoped>\n",
       "    .dataframe tbody tr th:only-of-type {\n",
       "        vertical-align: middle;\n",
       "    }\n",
       "\n",
       "    .dataframe tbody tr th {\n",
       "        vertical-align: top;\n",
       "    }\n",
       "\n",
       "    .dataframe thead th {\n",
       "        text-align: right;\n",
       "    }\n",
       "</style>\n",
       "<table border=\"1\" class=\"dataframe\">\n",
       "  <thead>\n",
       "    <tr style=\"text-align: right;\">\n",
       "      <th></th>\n",
       "      <th>action_page.url</th>\n",
       "      <th>content_same_visit___num_initiated_quotes</th>\n",
       "      <th>content_same_visit___num_quotes</th>\n",
       "      <th>content_same_visit___num_sales</th>\n",
       "    </tr>\n",
       "  </thead>\n",
       "  <tbody>\n",
       "    <tr>\n",
       "      <th>0</th>\n",
       "      <td>/home-page</td>\n",
       "      <td>32375</td>\n",
       "      <td>17752</td>\n",
       "      <td>8835</td>\n",
       "    </tr>\n",
       "    <tr>\n",
       "      <th>1</th>\n",
       "      <td>/tenant</td>\n",
       "      <td>10446</td>\n",
       "      <td>6434</td>\n",
       "      <td>3130</td>\n",
       "    </tr>\n",
       "    <tr>\n",
       "      <th>2</th>\n",
       "      <td>/tenant/ontario/toronto</td>\n",
       "      <td>5376</td>\n",
       "      <td>3491</td>\n",
       "      <td>1349</td>\n",
       "    </tr>\n",
       "    <tr>\n",
       "      <th>3</th>\n",
       "      <td>/tenant/alberta</td>\n",
       "      <td>3873</td>\n",
       "      <td>2450</td>\n",
       "      <td>787</td>\n",
       "    </tr>\n",
       "    <tr>\n",
       "      <th>4</th>\n",
       "      <td>/tenant/bc</td>\n",
       "      <td>2851</td>\n",
       "      <td>1772</td>\n",
       "      <td>649</td>\n",
       "    </tr>\n",
       "  </tbody>\n",
       "</table>\n",
       "</div>"
      ],
      "text/plain": [
       "           action_page.url  content_same_visit___num_initiated_quotes  \\\n",
       "0               /home-page                                      32375   \n",
       "1                  /tenant                                      10446   \n",
       "2  /tenant/ontario/toronto                                       5376   \n",
       "3          /tenant/alberta                                       3873   \n",
       "4               /tenant/bc                                       2851   \n",
       "\n",
       "   content_same_visit___num_quotes  content_same_visit___num_sales  \n",
       "0                            17752                            8835  \n",
       "1                             6434                            3130  \n",
       "2                             3491                            1349  \n",
       "3                             2450                             787  \n",
       "4                             1772                             649  "
      ]
     },
     "execution_count": 2,
     "metadata": {},
     "output_type": "execute_result"
    }
   ],
   "source": [
    "# filter for 2022 only\n",
    "\n",
    "temp = base.loc[('2022-01-01' <= base.loc[:, 'period']) &\n",
    " (base.loc[:, 'period'] <= '2022-12-29'),]\n",
    "\n",
    "# drop unneeded columns\n",
    "temp = temp.drop(columns = temp.columns.difference([\n",
    "    'quarter', 'period', 'content_same_visit___num_initiated_quotes',\n",
    "    'content_same_visit___num_quotes', 'content_same_visit___num_sales',\n",
    "    'action_page.url'\n",
    "]))\n",
    "\n",
    "# add \"/\" to start of action_page.url to match GA\n",
    "temp.loc[:, 'action_page.url'] = temp.loc[:, 'action_page.url'].apply(\n",
    "    lambda x: \"/\" + x\n",
    ")\n",
    "\n",
    "# perform some sort of sum for each action page to just be unified\n",
    "\n",
    "jo = temp.groupby('action_page.url').sum(numeric_only=True)\n",
    "jo = jo.sort_values(by='content_same_visit___num_initiated_quotes',\n",
    " ascending=False)\n",
    "\n",
    "jo = jo.reset_index()\n",
    "jo.head()"
   ]
  },
  {
   "cell_type": "code",
   "execution_count": 3,
   "metadata": {},
   "outputs": [],
   "source": [
    "# fix up GA's data\n",
    "\n",
    "ga = pd.read_csv(\n",
    "    r\"C:\\Users\\Hooman Deghani\\OneDrive\\PC\\Desktop\\Current Datasets\\Analytics Main (including login data) Channels 20220101-20230101.csv\",\n",
    "    comment = \"#\"\n",
    ")\n",
    "\n",
    "# drop unneeded columns\n",
    "ga = ga.drop(\n",
    "    \n",
    "    columns = ga.columns.difference([\n",
    "        'Landing Page', 'Sessions'\n",
    "    ])\n",
    ")"
   ]
  },
  {
   "cell_type": "code",
   "execution_count": 4,
   "metadata": {},
   "outputs": [],
   "source": [
    "# merge two dataframes\n",
    "df = pd.merge(\n",
    "    left=ga, right=jo, left_on='Landing Page', right_on='action_page.url',\n",
    "    how='outer', sort=False\n",
    ")\n",
    "\n",
    "df = df.dropna(subset=(['action_page.url', 'Sessions']), how='any')"
   ]
  },
  {
   "cell_type": "code",
   "execution_count": 5,
   "metadata": {},
   "outputs": [
    {
     "name": "stderr",
     "output_type": "stream",
     "text": [
      "C:\\Users\\Hooman Deghani\\AppData\\Local\\Temp\\ipykernel_14192\\2769899595.py:2: FutureWarning: In a future version, `df.iloc[:, i] = newvals` will attempt to set the values inplace instead of always setting a new array. To retain the old behavior, use either `df[df.columns[i]] = newvals` or, if columns are non-unique, `df.isetitem(i, newvals)`\n",
      "  df.loc[:, 'Sessions'] = df.loc[:, 'Sessions'].apply(\n"
     ]
    }
   ],
   "source": [
    "# Turn sessions into float data type\n",
    "df.loc[:, 'Sessions'] = df.loc[:, 'Sessions'].apply(\n",
    "    lambda x: x.replace(',', '')\n",
    ").apply(\n",
    "    lambda x: float(x)\n",
    ")"
   ]
  },
  {
   "cell_type": "code",
   "execution_count": 6,
   "metadata": {},
   "outputs": [
    {
     "data": {
      "text/plain": [
       "(802, 7)"
      ]
     },
     "execution_count": 6,
     "metadata": {},
     "output_type": "execute_result"
    }
   ],
   "source": [
    "# Add new column: conversion rate\n",
    "\n",
    "df.loc[:, 'Conversion Rate %'] = (\n",
    "    (df.loc[:, 'content_same_visit___num_sales'] / df.loc[:, 'Sessions']\n",
    "    * 100).round(decimals=2) \n",
    ")\n",
    "\n",
    "df.shape"
   ]
  },
  {
   "cell_type": "code",
   "execution_count": 7,
   "metadata": {},
   "outputs": [
    {
     "name": "stderr",
     "output_type": "stream",
     "text": [
      "C:\\Users\\Hooman Deghani\\AppData\\Local\\Temp\\ipykernel_14192\\4193611878.py:19: FutureWarning: In a future version, `df.iloc[:, i] = newvals` will attempt to set the values inplace instead of always setting a new array. To retain the old behavior, use either `df[df.columns[i]] = newvals` or, if columns are non-unique, `df.isetitem(i, newvals)`\n",
      "  rt.loc[:,'Position'] = rt.loc[:, 'Position'].apply(\n"
     ]
    }
   ],
   "source": [
    "# load and clean up ahrefs data\n",
    "rt = pd.read_csv(r\"C:\\Users\\Hooman Deghani\\OneDrive\\PC\\Desktop\\Current Datasets\\rank-tracker.export (3).csv\")\n",
    "\n",
    "# drop da bs\n",
    "rt = rt.drop(\n",
    "    columns = rt.columns.difference([\n",
    "        'URL', 'Position'\n",
    "    ])\n",
    ")\n",
    "\n",
    "rt = rt.dropna(how='any')\n",
    "\n",
    "# fix the url\n",
    "rt.loc[:, 'URL'] = rt.loc[:, 'URL'].apply(\n",
    "    lambda x: x.replace(\"https://www.squareone.ca\", \"\")\n",
    ")\n",
    "\n",
    "# turn numbers into float\n",
    "rt.loc[:,'Position'] = rt.loc[:, 'Position'].apply(\n",
    "    lambda x: float(x)\n",
    ")\n",
    "\n",
    "rt = rt.groupby('URL').mean().reset_index()"
   ]
  },
  {
   "cell_type": "code",
   "execution_count": 8,
   "metadata": {},
   "outputs": [],
   "source": [
    "# final merge and edits\n",
    "\n",
    "df = pd.merge(\n",
    "    left = df, right = rt, left_on = \"Landing Page\", right_on = \"URL\",\n",
    "    how = 'outer', sort = False\n",
    ")"
   ]
  },
  {
   "cell_type": "code",
   "execution_count": 9,
   "metadata": {},
   "outputs": [],
   "source": [
    "# final edits to the df\n",
    "df = df.dropna(subset= ['URL', 'Landing Page'], how= 'any')\n",
    "df.loc[:, 'Position'] = df.loc[:, 'Position'].apply(\n",
    "    lambda x: round(x, 2)\n",
    ")\n",
    "df = df.drop(columns=['URL', 'action_page.url'])"
   ]
  },
  {
   "cell_type": "code",
   "execution_count": 10,
   "metadata": {},
   "outputs": [],
   "source": [
    "result = df.loc[\n",
    "    (df.loc[:, 'Conversion Rate %'] > 5) &\n",
    "    (df.loc[:, 'Position'] > 3)\n",
    "]\n",
    "\n",
    "result.to_csv('results.csv')\n",
    "df.to_csv('Dataframe.csv')"
   ]
  }
 ],
 "metadata": {
  "kernelspec": {
   "display_name": "Python 3",
   "language": "python",
   "name": "python3"
  },
  "language_info": {
   "codemirror_mode": {
    "name": "ipython",
    "version": 3
   },
   "file_extension": ".py",
   "mimetype": "text/x-python",
   "name": "python",
   "nbconvert_exporter": "python",
   "pygments_lexer": "ipython3",
   "version": "3.10.5"
  },
  "orig_nbformat": 4,
  "vscode": {
   "interpreter": {
    "hash": "eabca979b0553fa6d87e9a00c352604d3b703d4afc9641643dd42376492b80f6"
   }
  }
 },
 "nbformat": 4,
 "nbformat_minor": 2
}
