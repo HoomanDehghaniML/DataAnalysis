{
 "cells": [
  {
   "cell_type": "code",
   "execution_count": 1,
   "metadata": {},
   "outputs": [],
   "source": [
    "# imports\n",
    "\n",
    "import pandas as pd\n",
    "import glob"
   ]
  },
  {
   "cell_type": "code",
   "execution_count": 2,
   "metadata": {},
   "outputs": [],
   "source": [
    "# create the glob list\n",
    "\n",
    "files = glob.glob(r\"C:\\Users\\Hooman Deghani\\OneDrive\\PC\\Desktop\\Current Datasets\\Potentials\\*.csv\")\n",
    "\n",
    "lelist = []"
   ]
  },
  {
   "cell_type": "code",
   "execution_count": 3,
   "metadata": {},
   "outputs": [],
   "source": [
    "# read, clean, calculate, and save each file\n",
    "\n",
    "for file in files:\n",
    "    m = pd.read_csv(file) \n",
    "\n",
    "    # Clean the dataframe\n",
    "    \n",
    "    # drop the unnecessary columns\n",
    "    m = m.drop(\n",
    "        columns=m.columns.difference([\n",
    "            'Keyword', 'Volume', 'KD', 'Current position'\n",
    "        ])\n",
    "    )\n",
    "    \n",
    "    # Filter for positions lower than 15\n",
    "    m.loc[:, 'Current position'] = m.loc[:, 'Current position'].fillna(\n",
    "        value=100\n",
    "    )\n",
    "    m = m.loc[(m.loc[:, 'Current position'] < 15)]\n",
    "\n",
    "    # create ordinary average\n",
    "    average = m.loc[:, 'KD'].mean()\n",
    "    \n",
    "    # create weighted average\n",
    "    m.loc[:, 'wkd'] = (m.loc[:, 'Volume'] / m.loc[:, 'Volume'].sum()) * m.loc[:, 'KD']\n",
    "    w_average = m.loc[:, 'wkd'].sum()\n",
    "\n",
    "    lelist.append([file, {'average': average}, {'w_average': w_average}])\n"
   ]
  },
  {
   "cell_type": "code",
   "execution_count": 5,
   "metadata": {},
   "outputs": [
    {
     "data": {
      "text/plain": [
       "[['C:\\\\Users\\\\Hooman Deghani\\\\OneDrive\\\\PC\\\\Desktop\\\\Current Datasets\\\\Potentials\\\\www.squareone.ca-condo-ontario-toronto-organ__2023-02-06_14-18-40.csv',\n",
       "  {'average': 8.9375},\n",
       "  {'w_average': 10.49367088607595}],\n",
       " ['C:\\\\Users\\\\Hooman Deghani\\\\OneDrive\\\\PC\\\\Desktop\\\\Current Datasets\\\\Potentials\\\\www.squareone.ca-condo-organic-keywords-path__2023-02-06_14-13-55.csv',\n",
       "  {'average': 6.589743589743589},\n",
       "  {'w_average': 8.63650075414781}],\n",
       " ['C:\\\\Users\\\\Hooman Deghani\\\\OneDrive\\\\PC\\\\Desktop\\\\Current Datasets\\\\Potentials\\\\www.squareone.ca-fr-habitation-organic-keywo__2023-02-06_14-17-20.csv',\n",
       "  {'average': 4.9},\n",
       "  {'w_average': 27.405660377358487}],\n",
       " ['C:\\\\Users\\\\Hooman Deghani\\\\OneDrive\\\\PC\\\\Desktop\\\\Current Datasets\\\\Potentials\\\\www.squareone.ca-fr-habitation-quebec-montre__2023-02-06_14-19-03.csv',\n",
       "  {'average': 1.0},\n",
       "  {'w_average': 0.9999999999999999}],\n",
       " ['C:\\\\Users\\\\Hooman Deghani\\\\OneDrive\\\\PC\\\\Desktop\\\\Current Datasets\\\\Potentials\\\\www.squareone.ca-fr-habitation-quebec-organi__2023-02-06_14-14-06.csv',\n",
       "  {'average': 1.0},\n",
       "  {'w_average': 0.9999999999999999}],\n",
       " ['C:\\\\Users\\\\Hooman Deghani\\\\OneDrive\\\\PC\\\\Desktop\\\\Current Datasets\\\\Potentials\\\\www.squareone.ca-home-alberta-edmonton-organ__2023-02-06_14-18-27.csv',\n",
       "  {'average': 3.933333333333333},\n",
       "  {'w_average': 3.9647887323943656}],\n",
       " ['C:\\\\Users\\\\Hooman Deghani\\\\OneDrive\\\\PC\\\\Desktop\\\\Current Datasets\\\\Potentials\\\\www.squareone.ca-home-organic-keywords-path-__2023-02-06_14-16-07.csv',\n",
       "  {'average': 10.244541484716157},\n",
       "  {'w_average': 12.92048757618378}],\n",
       " ['C:\\\\Users\\\\Hooman Deghani\\\\OneDrive\\\\PC\\\\Desktop\\\\Current Datasets\\\\Potentials\\\\www.squareone.ca-home-quebec-organic-keyword__2023-02-06_14-15-15.csv',\n",
       "  {'average': 6.384615384615385},\n",
       "  {'w_average': 6.174721189591078}],\n",
       " ['C:\\\\Users\\\\Hooman Deghani\\\\OneDrive\\\\PC\\\\Desktop\\\\Current Datasets\\\\Potentials\\\\www.squareone.ca-rental-property-organic-key__2023-02-06_14-18-52.csv',\n",
       "  {'average': 10.923076923076923},\n",
       "  {'w_average': 9.393414211438476}],\n",
       " ['C:\\\\Users\\\\Hooman Deghani\\\\OneDrive\\\\PC\\\\Desktop\\\\Current Datasets\\\\Potentials\\\\www.squareone.ca-renters-ontario-organic-key__2023-02-06_14-13-25.csv',\n",
       "  {'average': 15.451612903225806},\n",
       "  {'w_average': 15.407547169811322}],\n",
       " ['C:\\\\Users\\\\Hooman Deghani\\\\OneDrive\\\\PC\\\\Desktop\\\\Current Datasets\\\\Potentials\\\\www.squareone.ca-tenant-alberta-organic-keyw__2023-02-06_14-13-11.csv',\n",
       "  {'average': 4.538461538461538},\n",
       "  {'w_average': 4.357079252003562}],\n",
       " ['C:\\\\Users\\\\Hooman Deghani\\\\OneDrive\\\\PC\\\\Desktop\\\\Current Datasets\\\\Potentials\\\\www.squareone.ca-tenant-bc-organic-keywords-__2023-02-06_14-12-03.csv',\n",
       "  {'average': 9.880952380952381},\n",
       "  {'w_average': 9.368866328257191}],\n",
       " ['C:\\\\Users\\\\Hooman Deghani\\\\OneDrive\\\\PC\\\\Desktop\\\\Current Datasets\\\\Potentials\\\\www.squareone.ca-tenant-bc-vancouver-organic__2023-02-06_14-11-40.csv',\n",
       "  {'average': 12.2},\n",
       "  {'w_average': 10.746710526315791}],\n",
       " ['C:\\\\Users\\\\Hooman Deghani\\\\OneDrive\\\\PC\\\\Desktop\\\\Current Datasets\\\\Potentials\\\\www.squareone.ca-tenant-organic-keywords-pat__2023-02-06_14-11-24.csv',\n",
       "  {'average': 16.73728813559322},\n",
       "  {'w_average': 17.769949618072484}],\n",
       " ['C:\\\\Users\\\\Hooman Deghani\\\\OneDrive\\\\PC\\\\Desktop\\\\Current Datasets\\\\Potentials\\\\www.squareone.ca-tenant-quebec-organic-keywo__2023-02-06_14-13-43.csv',\n",
       "  {'average': 6.769230769230769},\n",
       "  {'w_average': 7.245614035087718}]]"
      ]
     },
     "execution_count": 5,
     "metadata": {},
     "output_type": "execute_result"
    }
   ],
   "source": [
    "lelist"
   ]
  },
  {
   "cell_type": "code",
   "execution_count": 7,
   "metadata": {},
   "outputs": [],
   "source": [
    "with open('yodawg.html', 'w') as file:\n",
    "    file.write(str(lelist))"
   ]
  }
 ],
 "metadata": {
  "kernelspec": {
   "display_name": "Python 3",
   "language": "python",
   "name": "python3"
  },
  "language_info": {
   "codemirror_mode": {
    "name": "ipython",
    "version": 3
   },
   "file_extension": ".py",
   "mimetype": "text/x-python",
   "name": "python",
   "nbconvert_exporter": "python",
   "pygments_lexer": "ipython3",
   "version": "3.10.5"
  },
  "orig_nbformat": 4,
  "vscode": {
   "interpreter": {
    "hash": "eabca979b0553fa6d87e9a00c352604d3b703d4afc9641643dd42376492b80f6"
   }
  }
 },
 "nbformat": 4,
 "nbformat_minor": 2
}
