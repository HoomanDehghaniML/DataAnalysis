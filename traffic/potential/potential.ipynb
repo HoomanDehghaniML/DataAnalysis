{
 "cells": [
  {
   "cell_type": "code",
   "execution_count": 1,
   "metadata": {},
   "outputs": [],
   "source": [
    "# imports\n",
    "\n",
    "import pandas as pd\n",
    "import glob"
   ]
  },
  {
   "cell_type": "code",
   "execution_count": 5,
   "metadata": {},
   "outputs": [
    {
     "name": "stderr",
     "output_type": "stream",
     "text": [
      "C:\\Users\\Hooman Deghani\\AppData\\Local\\Temp\\ipykernel_33468\\45720588.py:5: FutureWarning: The default dtype for empty Series will be 'object' instead of 'float64' in a future version. Specify a dtype explicitly to silence this warning.\n",
      "  ds = pd.Series()\n"
     ]
    }
   ],
   "source": [
    "# create the glob list\n",
    "\n",
    "files = glob.glob(r\"C:\\Users\\Hooman Deghani\\OneDrive\\PC\\Desktop\\Current Datasets\\Potentials\\*.csv\")\n",
    "\n",
    "ds = pd.Series()"
   ]
  },
  {
   "cell_type": "code",
   "execution_count": 8,
   "metadata": {},
   "outputs": [],
   "source": [
    "# read, clean, calculate, and save each file\n",
    "\n",
    "for file in files:\n",
    "    m = pd.read_csv(file) \n",
    "\n",
    "    # Clean the dataframe\n",
    "    \n",
    "    # drop the unnecessary columns\n",
    "    m = m.drop(\n",
    "        columns=m.columns.difference([\n",
    "            'Keyword', 'Volume', 'KD', 'Current position'\n",
    "        ])\n",
    "    )\n",
    "    \n",
    "    # Filter for positions lower than 15\n",
    "    m.loc[:, 'Current position'] = m.loc[:, 'Current position'].fillna(\n",
    "        value=100\n",
    "    )\n",
    "    m = m.loc[(m.loc[:, 'Current position'] < 15)]\n",
    "\n",
    "    # create ordinary average\n",
    "    average = m.loc[:, 'KD'].mean()\n",
    "    \n",
    "    # create weighted average\n",
    "    m.loc[:, 'wkd'] = (m.loc[:, 'Volume'] / m.loc[:, 'Volume'].sum()) * m.loc[:, 'KD']\n",
    "    w_average = m.loc[:, 'wkd'].sum()\n",
    "\n",
    "    ds[file] = m.loc[:, 'Volume'].sum()\n"
   ]
  },
  {
   "cell_type": "code",
   "execution_count": 10,
   "metadata": {},
   "outputs": [],
   "source": [
    "ds.to_csv('ds.csv')"
   ]
  }
 ],
 "metadata": {
  "kernelspec": {
   "display_name": "Python 3",
   "language": "python",
   "name": "python3"
  },
  "language_info": {
   "codemirror_mode": {
    "name": "ipython",
    "version": 3
   },
   "file_extension": ".py",
   "mimetype": "text/x-python",
   "name": "python",
   "nbconvert_exporter": "python",
   "pygments_lexer": "ipython3",
   "version": "3.10.5"
  },
  "orig_nbformat": 4,
  "vscode": {
   "interpreter": {
    "hash": "eabca979b0553fa6d87e9a00c352604d3b703d4afc9641643dd42376492b80f6"
   }
  }
 },
 "nbformat": 4,
 "nbformat_minor": 2
}
