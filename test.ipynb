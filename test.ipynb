{
 "cells": [
  {
   "cell_type": "code",
   "execution_count": 1,
   "metadata": {},
   "outputs": [
    {
     "name": "stderr",
     "output_type": "stream",
     "text": [
      "C:\\Users\\Hooman Deghani\\AppData\\Local\\Temp\\ipykernel_13000\\2543247844.py:10: FutureWarning: In a future version, `df.iloc[:, i] = newvals` will attempt to set the values inplace instead of always setting a new array. To retain the old behavior, use either `df[df.columns[i]] = newvals` or, if columns are non-unique, `df.isetitem(i, newvals)`\n",
      "  base.loc[:, 'period'] = pd.to_datetime(base.loc[:, 'period'])\n"
     ]
    }
   ],
   "source": [
    "import pandas as pd\n",
    "import numpy as np\n",
    "\n",
    "pd.set_option('display.max_rows', 20)\n",
    "\n",
    "base = pd.read_csv(\n",
    "    r\"C:\\Users\\Hooman Deghani\\OneDrive\\PC\\Desktop\\Current Datasets\\quote activity by page.csv\"\n",
    ")\n",
    "\n",
    "base.loc[:, 'period'] = pd.to_datetime(base.loc[:, 'period'])"
   ]
  },
  {
   "cell_type": "code",
   "execution_count": 2,
   "metadata": {},
   "outputs": [],
   "source": [
    "# filter for 2022 only\n",
    "\n",
    "df = base.loc[('2022-01-01' <= base.loc[:, 'period']) &\n",
    " (base.loc[:, 'period'] <= '2022-12-29'),]\n",
    "\n",
    "# drop unneeded columns\n",
    "df = df.drop(columns = df.columns.difference([\n",
    "    'quarter', 'period', 'content_same_visit___num_initiated_quotes',\n",
    "    'content_same_visit___num_quotes', 'content_same_visit___num_sales',\n",
    "    'action_page.url'\n",
    "]))\n",
    "\n",
    "# add \"/\" to start of action_page.url to match GA\n",
    "df.loc[:, 'action_page.url'] = df.loc[:, 'action_page.url'].apply(\n",
    "    lambda x: \"/\" + x\n",
    ")\n",
    "\n",
    "# perform some sort of sum for each action page to just be unified\n",
    "\n",
    "jo = df.groupby('action_page.url').sum(numeric_only=True)\n",
    "jo = jo.sort_values(by='content_same_visit___num_initiated_quotes',\n",
    " ascending=False)\n",
    "\n",
    "jo = jo.reset_index()"
   ]
  },
  {
   "cell_type": "code",
   "execution_count": 3,
   "metadata": {},
   "outputs": [],
   "source": [
    "# fix up GA's data\n",
    "\n",
    "ga = pd.read_csv(\n",
    "    r\"C:\\Users\\Hooman Deghani\\OneDrive\\PC\\Desktop\\Current Datasets\\Analytics Main (including login data) Channels 20220101-20230101 (1).csv\",\n",
    "    comment = \"#\"\n",
    ")\n",
    "\n",
    "# drop unneeded columns\n",
    "ga = ga.drop(\n",
    "    \n",
    "    columns = ga.columns.difference([\n",
    "        'Landing Page', 'Sessions'\n",
    "    ])\n",
    ")"
   ]
  },
  {
   "cell_type": "code",
   "execution_count": 4,
   "metadata": {},
   "outputs": [],
   "source": [
    "# merge two dataframes\n",
    "df = pd.merge(\n",
    "    left=ga, right=jo, left_on='Landing Page', right_on='action_page.url',\n",
    "    how='outer', sort=False\n",
    ")\n",
    "\n",
    "df = df.dropna(subset=(['action_page.url', 'Sessions']), how='any')"
   ]
  },
  {
   "cell_type": "code",
   "execution_count": 5,
   "metadata": {},
   "outputs": [
    {
     "name": "stderr",
     "output_type": "stream",
     "text": [
      "C:\\Users\\Hooman Deghani\\AppData\\Local\\Temp\\ipykernel_13000\\2769899595.py:2: FutureWarning: In a future version, `df.iloc[:, i] = newvals` will attempt to set the values inplace instead of always setting a new array. To retain the old behavior, use either `df[df.columns[i]] = newvals` or, if columns are non-unique, `df.isetitem(i, newvals)`\n",
      "  df.loc[:, 'Sessions'] = df.loc[:, 'Sessions'].apply(\n"
     ]
    }
   ],
   "source": [
    "# Turn sessions into float data type\n",
    "df.loc[:, 'Sessions'] = df.loc[:, 'Sessions'].apply(\n",
    "    lambda x: x.replace(',', '')\n",
    ").apply(\n",
    "    lambda x: float(x)\n",
    ")"
   ]
  },
  {
   "cell_type": "code",
   "execution_count": 6,
   "metadata": {},
   "outputs": [
    {
     "data": {
      "text/plain": [
       "(511, 7)"
      ]
     },
     "execution_count": 6,
     "metadata": {},
     "output_type": "execute_result"
    }
   ],
   "source": [
    "# Add new column: conversion rate\n",
    "\n",
    "df.loc[:, 'Conversion Rate %'] = (\n",
    "    (df.loc[:, 'content_same_visit___num_sales'] / df.loc[:, 'Sessions']\n",
    "    * 100).round(decimals=2) \n",
    ")\n",
    "\n",
    "df.shape"
   ]
  },
  {
   "cell_type": "code",
   "execution_count": 7,
   "metadata": {},
   "outputs": [
    {
     "name": "stderr",
     "output_type": "stream",
     "text": [
      "C:\\Users\\Hooman Deghani\\AppData\\Local\\Temp\\ipykernel_13000\\3752580715.py:19: FutureWarning: In a future version, `df.iloc[:, i] = newvals` will attempt to set the values inplace instead of always setting a new array. To retain the old behavior, use either `df[df.columns[i]] = newvals` or, if columns are non-unique, `df.isetitem(i, newvals)`\n",
      "  rt.loc[:,'Position'] = rt.loc[:, 'Position'].apply(\n"
     ]
    },
    {
     "data": {
      "text/html": [
       "<div>\n",
       "<style scoped>\n",
       "    .dataframe tbody tr th:only-of-type {\n",
       "        vertical-align: middle;\n",
       "    }\n",
       "\n",
       "    .dataframe tbody tr th {\n",
       "        vertical-align: top;\n",
       "    }\n",
       "\n",
       "    .dataframe thead th {\n",
       "        text-align: right;\n",
       "    }\n",
       "</style>\n",
       "<table border=\"1\" class=\"dataframe\">\n",
       "  <thead>\n",
       "    <tr style=\"text-align: right;\">\n",
       "      <th></th>\n",
       "      <th>URL</th>\n",
       "      <th>Position</th>\n",
       "    </tr>\n",
       "  </thead>\n",
       "  <tbody>\n",
       "    <tr>\n",
       "      <th>0</th>\n",
       "      <td>/</td>\n",
       "      <td>13.75</td>\n",
       "    </tr>\n",
       "    <tr>\n",
       "      <th>1</th>\n",
       "      <td>/condo</td>\n",
       "      <td>31.00</td>\n",
       "    </tr>\n",
       "    <tr>\n",
       "      <th>2</th>\n",
       "      <td>/condo/alberta</td>\n",
       "      <td>7.00</td>\n",
       "    </tr>\n",
       "    <tr>\n",
       "      <th>3</th>\n",
       "      <td>/condo/alberta/calgary</td>\n",
       "      <td>4.50</td>\n",
       "    </tr>\n",
       "    <tr>\n",
       "      <th>4</th>\n",
       "      <td>/condo/bc</td>\n",
       "      <td>6.50</td>\n",
       "    </tr>\n",
       "    <tr>\n",
       "      <th>...</th>\n",
       "      <td>...</td>\n",
       "      <td>...</td>\n",
       "    </tr>\n",
       "    <tr>\n",
       "      <th>412</th>\n",
       "      <td>/tenant/quebec</td>\n",
       "      <td>3.60</td>\n",
       "    </tr>\n",
       "    <tr>\n",
       "      <th>413</th>\n",
       "      <td>/tenant/saskatchewan/regina</td>\n",
       "      <td>1.00</td>\n",
       "    </tr>\n",
       "    <tr>\n",
       "      <th>414</th>\n",
       "      <td>/types-specialty-property</td>\n",
       "      <td>7.00</td>\n",
       "    </tr>\n",
       "    <tr>\n",
       "      <th>415</th>\n",
       "      <td>/vacation-property</td>\n",
       "      <td>7.00</td>\n",
       "    </tr>\n",
       "    <tr>\n",
       "      <th>416</th>\n",
       "      <td>/wp-content/uploads/2015/07/A-first-time-homeo...</td>\n",
       "      <td>25.00</td>\n",
       "    </tr>\n",
       "  </tbody>\n",
       "</table>\n",
       "<p>417 rows × 2 columns</p>\n",
       "</div>"
      ],
      "text/plain": [
       "                                                   URL  Position\n",
       "0                                                    /     13.75\n",
       "1                                               /condo     31.00\n",
       "2                                       /condo/alberta      7.00\n",
       "3                               /condo/alberta/calgary      4.50\n",
       "4                                            /condo/bc      6.50\n",
       "..                                                 ...       ...\n",
       "412                                     /tenant/quebec      3.60\n",
       "413                        /tenant/saskatchewan/regina      1.00\n",
       "414                          /types-specialty-property      7.00\n",
       "415                                 /vacation-property      7.00\n",
       "416  /wp-content/uploads/2015/07/A-first-time-homeo...     25.00\n",
       "\n",
       "[417 rows x 2 columns]"
      ]
     },
     "execution_count": 7,
     "metadata": {},
     "output_type": "execute_result"
    }
   ],
   "source": [
    "# load and clean up ahrefs data\n",
    "rt = pd.read_csv(r\"C:\\Users\\Hooman Deghani\\OneDrive\\PC\\Desktop\\Current Datasets\\rank-tracker.export (3).csv\")\n",
    "\n",
    "# drop da bs\n",
    "rt = rt.drop(\n",
    "    columns = rt.columns.difference([\n",
    "        'URL', 'Position'\n",
    "    ])\n",
    ")\n",
    "\n",
    "rt = rt.dropna(how='any')\n",
    "\n",
    "# fix the url\n",
    "rt.loc[:, 'URL'] = rt.loc[:, 'URL'].apply(\n",
    "    lambda x: x.replace(\"https://www.squareone.ca\", \"\")\n",
    ")\n",
    "\n",
    "# turn numbers into float\n",
    "rt.loc[:,'Position'] = rt.loc[:, 'Position'].apply(\n",
    "    lambda x: float(x)\n",
    ")\n",
    "\n",
    "rt = rt.groupby('URL').mean().reset_index()\n",
    "\n",
    "rt"
   ]
  },
  {
   "cell_type": "code",
   "execution_count": 8,
   "metadata": {},
   "outputs": [],
   "source": [
    "# final merge and edits\n",
    "\n",
    "df = pd.merge(\n",
    "    left = df, right = rt, left_on = \"Landing Page\", right_on = \"URL\",\n",
    "    how = 'outer', sort = False\n",
    ")"
   ]
  },
  {
   "cell_type": "code",
   "execution_count": 32,
   "metadata": {},
   "outputs": [],
   "source": [
    "# final edits to the df\n",
    "df = df.dropna(subset= ['URL', 'Landing Page'], how= 'any')\n",
    "df.loc[:, 'Position'] = df.loc[:, 'Position'].apply(\n",
    "    lambda x: round(x, 2)\n",
    ")\n",
    "df = df.drop(columns=['URL', 'action_page.url'])"
   ]
  },
  {
   "cell_type": "code",
   "execution_count": 36,
   "metadata": {},
   "outputs": [],
   "source": [
    "result = df.loc[\n",
    "    (df.loc[:, 'Conversion Rate %'] > 5) &\n",
    "    (df.loc[:, 'Position'] > 3)\n",
    "]\n",
    "\n",
    "result.to_csv('results.csv')"
   ]
  }
 ],
 "metadata": {
  "kernelspec": {
   "display_name": "Python 3",
   "language": "python",
   "name": "python3"
  },
  "language_info": {
   "codemirror_mode": {
    "name": "ipython",
    "version": 3
   },
   "file_extension": ".py",
   "mimetype": "text/x-python",
   "name": "python",
   "nbconvert_exporter": "python",
   "pygments_lexer": "ipython3",
   "version": "3.10.5 (tags/v3.10.5:f377153, Jun  6 2022, 16:14:13) [MSC v.1929 64 bit (AMD64)]"
  },
  "orig_nbformat": 4,
  "vscode": {
   "interpreter": {
    "hash": "eabca979b0553fa6d87e9a00c352604d3b703d4afc9641643dd42376492b80f6"
   }
  }
 },
 "nbformat": 4,
 "nbformat_minor": 2
}
