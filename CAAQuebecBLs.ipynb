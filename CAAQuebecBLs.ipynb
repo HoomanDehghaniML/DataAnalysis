{
 "cells": [
  {
   "cell_type": "code",
   "execution_count": 1,
   "metadata": {},
   "outputs": [
    {
     "data": {
      "text/plain": [
       "Index(['Referring page title', 'Referring page URL', 'Language', 'Platform',\n",
       "       'Referring page HTTP code', 'Domain rating', 'UR', 'Domain traffic',\n",
       "       'Referring domains', 'Linked domains', 'External links', 'Page traffic',\n",
       "       'Keywords', 'Target URL', 'Left context', 'Anchor', 'Right context',\n",
       "       'Type', 'Content', 'Nofollow', 'UGC', 'Sponsored', 'Rendered', 'Raw',\n",
       "       'Lost status', 'Drop reason', 'Discovered status', 'First seen',\n",
       "       'Last seen', 'Lost', 'Links in group'],\n",
       "      dtype='object')"
      ]
     },
     "execution_count": 1,
     "metadata": {},
     "output_type": "execute_result"
    }
   ],
   "source": [
    "import pandas as pd\n",
    "import numpy as np\n",
    "\n",
    "pd.set_option('display.max_rows', None)\n",
    "\n",
    "base = pd.read_csv(\n",
    "    r\"G:\\Shared drives\\sq1 - marketing\\seo\\Competitor Analysis\\Data\\www.caaquebec.com-backlinks-subdomains__2023-01-09_10-48-30.csv\"\n",
    ")\n",
    "\n",
    "base.columns"
   ]
  },
  {
   "cell_type": "code",
   "execution_count": 2,
   "metadata": {},
   "outputs": [
    {
     "data": {
      "text/plain": [
       "pandas.core.series.Series"
      ]
     },
     "execution_count": 2,
     "metadata": {},
     "output_type": "execute_result"
    }
   ],
   "source": [
    "base = base.drop(\n",
    "    columns = base.columns.difference(\n",
    "        [\n",
    "            'Referring page title', 'Referring page URL', 'Page traffic',\n",
    "            'Target URL'\n",
    "        ]\n",
    "    )\n",
    ")\n",
    "\n",
    "groups = base.groupby('Target URL')\n",
    "type(base.loc[:, 'Target URL'].value_counts())"
   ]
  },
  {
   "cell_type": "code",
   "execution_count": 3,
   "metadata": {},
   "outputs": [
    {
     "data": {
      "text/plain": [
       "(17, 3)"
      ]
     },
     "execution_count": 3,
     "metadata": {},
     "output_type": "execute_result"
    }
   ],
   "source": [
    "# Shaping the dataframe\n",
    "\n",
    "df = pd.DataFrame(base.loc[:, 'Target URL'].value_counts())\n",
    "df = df.rename(columns={\"Target URL\": \"Count\"})\n",
    "df = df.sort_values(by='Count', ascending=False)\n",
    "df.loc[:, [\"Type\", \"keyword\"]] = [\"\", \"\"]"
   ]
  },
  {
   "cell_type": "code",
   "execution_count": 27,
   "metadata": {},
   "outputs": [],
   "source": [
    "# update urls containing 'guide' to type = 'Blog'\n",
    "\n",
    "list = []\n",
    "for index, value in df.loc[:, 'Count'].items():\n",
    "    if 'guide' in index:\n",
    "        list.append(index)\n",
    "df.loc[list, 'Type'] = 'Blog'"
   ]
  },
  {
   "cell_type": "code",
   "execution_count": 30,
   "metadata": {},
   "outputs": [],
   "source": [
    "# updates the home pages to type = 'Product'\n",
    "\n",
    "df.loc[df.index.str.contains(r'^http.+com/$'), 'Type'] = 'Product'"
   ]
  },
  {
   "cell_type": "code",
   "execution_count": 35,
   "metadata": {},
   "outputs": [
    {
     "data": {
      "text/html": [
       "<div>\n",
       "<style scoped>\n",
       "    .dataframe tbody tr th:only-of-type {\n",
       "        vertical-align: middle;\n",
       "    }\n",
       "\n",
       "    .dataframe tbody tr th {\n",
       "        vertical-align: top;\n",
       "    }\n",
       "\n",
       "    .dataframe thead th {\n",
       "        text-align: right;\n",
       "    }\n",
       "</style>\n",
       "<table border=\"1\" class=\"dataframe\">\n",
       "  <thead>\n",
       "    <tr style=\"text-align: right;\">\n",
       "      <th></th>\n",
       "      <th>Count</th>\n",
       "      <th>Type</th>\n",
       "      <th>keyword</th>\n",
       "    </tr>\n",
       "  </thead>\n",
       "  <tbody>\n",
       "    <tr>\n",
       "      <th>https://www.caaquebec.com/fr/sur-la-route/interets-publics/dossier-essence/info-essence/</th>\n",
       "      <td>5</td>\n",
       "      <td>Tool</td>\n",
       "      <td></td>\n",
       "    </tr>\n",
       "    <tr>\n",
       "      <th>https://www.caaquebec.com/fr/sur-la-route/interets-publics/dossier-essence/info-essence-1</th>\n",
       "      <td>1</td>\n",
       "      <td>Tool</td>\n",
       "      <td></td>\n",
       "    </tr>\n",
       "  </tbody>\n",
       "</table>\n",
       "</div>"
      ],
      "text/plain": [
       "                                                    Count  Type keyword\n",
       "https://www.caaquebec.com/fr/sur-la-route/inter...      5  Tool        \n",
       "https://www.caaquebec.com/fr/sur-la-route/inter...      1  Tool        "
      ]
     },
     "execution_count": 35,
     "metadata": {},
     "output_type": "execute_result"
    }
   ],
   "source": [
    "# individual updates\n",
    "df.loc[df.index.str.contains(\n",
    "    'https://www.caaquebec.com/fr/sur-la-route/interets-publics/'\n",
    "    'dossier-essence/info-essence'\n",
    "    ), 'Type'] = 'Tool'"
   ]
  },
  {
   "cell_type": "code",
   "execution_count": 29,
   "metadata": {},
   "outputs": [
    {
     "data": {
      "text/html": [
       "<div>\n",
       "<style scoped>\n",
       "    .dataframe tbody tr th:only-of-type {\n",
       "        vertical-align: middle;\n",
       "    }\n",
       "\n",
       "    .dataframe tbody tr th {\n",
       "        vertical-align: top;\n",
       "    }\n",
       "\n",
       "    .dataframe thead th {\n",
       "        text-align: right;\n",
       "    }\n",
       "</style>\n",
       "<table border=\"1\" class=\"dataframe\">\n",
       "  <thead>\n",
       "    <tr style=\"text-align: right;\">\n",
       "      <th></th>\n",
       "      <th>Count</th>\n",
       "      <th>Type</th>\n",
       "      <th>keyword</th>\n",
       "    </tr>\n",
       "  </thead>\n",
       "  <tbody>\n",
       "    <tr>\n",
       "      <th>http://www.caaquebec.com/</th>\n",
       "      <td>48</td>\n",
       "      <td>Product</td>\n",
       "      <td></td>\n",
       "    </tr>\n",
       "    <tr>\n",
       "      <th>https://www.caaquebec.com/</th>\n",
       "      <td>31</td>\n",
       "      <td>Product</td>\n",
       "      <td></td>\n",
       "    </tr>\n",
       "    <tr>\n",
       "      <th>https://www.caaquebec.com/fr/sur-la-route/interets-publics/les-pires-routes/</th>\n",
       "      <td>11</td>\n",
       "      <td></td>\n",
       "      <td></td>\n",
       "    </tr>\n",
       "    <tr>\n",
       "      <th>https://www.caaquebec.com/fr/</th>\n",
       "      <td>10</td>\n",
       "      <td></td>\n",
       "      <td></td>\n",
       "    </tr>\n",
       "    <tr>\n",
       "      <th>http://www.caaquebec.com/Accueil/</th>\n",
       "      <td>8</td>\n",
       "      <td></td>\n",
       "      <td></td>\n",
       "    </tr>\n",
       "  </tbody>\n",
       "</table>\n",
       "</div>"
      ],
      "text/plain": [
       "                                                    Count     Type keyword\n",
       "http://www.caaquebec.com/                              48  Product        \n",
       "https://www.caaquebec.com/                             31  Product        \n",
       "https://www.caaquebec.com/fr/sur-la-route/inter...     11                 \n",
       "https://www.caaquebec.com/fr/                          10                 \n",
       "http://www.caaquebec.com/Accueil/                       8                 "
      ]
     },
     "execution_count": 29,
     "metadata": {},
     "output_type": "execute_result"
    }
   ],
   "source": [
    "df.iloc[0:5,:]"
   ]
  }
 ],
 "metadata": {
  "kernelspec": {
   "display_name": "Python 3",
   "language": "python",
   "name": "python3"
  },
  "language_info": {
   "codemirror_mode": {
    "name": "ipython",
    "version": 3
   },
   "file_extension": ".py",
   "mimetype": "text/x-python",
   "name": "python",
   "nbconvert_exporter": "python",
   "pygments_lexer": "ipython3",
   "version": "3.10.5"
  },
  "orig_nbformat": 4,
  "vscode": {
   "interpreter": {
    "hash": "eabca979b0553fa6d87e9a00c352604d3b703d4afc9641643dd42376492b80f6"
   }
  }
 },
 "nbformat": 4,
 "nbformat_minor": 2
}
