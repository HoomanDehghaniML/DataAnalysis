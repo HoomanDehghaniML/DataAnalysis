{
 "cells": [
  {
   "cell_type": "code",
   "execution_count": 5,
   "metadata": {},
   "outputs": [],
   "source": [
    "import config\n",
    "import logging \n",
    "import os\n",
    "import pandas as pd\n",
    "import ssl\n",
    "import smtplib\n",
    "import time\n",
    "\n",
    "from email.mime.text import MIMEText\n",
    "from email.utils import make_msgid\n",
    "\n",
    "\n",
    "email_sender = \"hooman.dehghani@squareone.ca\"\n",
    "email_password = config.Gmail_Python_Password"
   ]
  },
  {
   "cell_type": "code",
   "execution_count": 6,
   "metadata": {},
   "outputs": [],
   "source": [
    "## Safe to rerun ##\n",
    "\n",
    "# Read dataframe\n",
    "directory = r\"C:\\Users\\Hooman Deghani\\Python\\Data Analysis\\Outreach - Skyscraper\\Input\\Current\"\n",
    "urls = [os.path.join(directory, filename) for filename in os.listdir(directory) if filename.endswith('.csv')]\n",
    "if len(urls) > 1:\n",
    "    df = pd.concat([pd.read_csv(url) for url in urls], ignore_index=True)\n",
    "else: \n",
    "    df = pd.read_csv(urls[0])\n",
    "\n",
    "# Remove columns that contain the word \"Unnamed\"\n",
    "Unnamed = [column for column in df.columns if \"Unnamed\" in column]\n",
    "df = df.drop(columns= Unnamed)\n",
    "\n",
    "# Add the em[] columns\n",
    "df.loc[:, ['subject', 'message-id']] = \"\"\n"
   ]
  },
  {
   "cell_type": "code",
   "execution_count": 7,
   "metadata": {},
   "outputs": [],
   "source": [
    "## Safe to rerun ##\n",
    "\n",
    "# Define the global variables here\n",
    "context = ssl.create_default_context()\n",
    "signature = \"\"\"\n",
    "<div dir=\"ltr\" data-smartmail=\"gmail_signature\"><div dir=\"ltr\"><span style=\"color:rgb(34,34,34)\">. . . . . . . . . . . . . . . . . . . . . . . . . . . . . . . . . . . . .</span><p style=\"margin:0px\"><font color=\"#f37b20\" face=\"verdana, sans-serif\"><span style=\"font-size:10px\"><b>Hooman Dehghani</b></span></font></p><p style=\"font-size:13px;margin:0px\"><span style=\"font-family:verdana,sans-serif\"><span style=\"color:rgb(127,127,127);font-size:7.5pt\">SEO Marketing Coordinator</span></span></p><p style=\"font-size:13px;margin:0px\"><span style=\"font-family:verdana,sans-serif\"><span style=\"color:rgb(127,127,127);font-size:7.5pt\">Square One Insurance Services Inc.</span><span style=\"font-size:7.5pt\"></span></span></p><p style=\"font-size:13px;margin:0px\"><span style=\"font-family:verdana,sans-serif\"><span style=\"color:rgb(127,127,127);font-size:7.5pt\">Suite 1410 -&nbsp;</span><span style=\"color:rgb(127,127,127);font-size:7.5pt\">650&nbsp;West Georgia&nbsp;Street</span></span></p><p style=\"font-size:13px;margin:0px\"><span style=\"font-family:verdana,sans-serif\"><span style=\"color:rgb(127,127,127);font-size:7.5pt\">Vancouver, BC &nbsp;V6B 4N8</span></span></p><p style=\"font-size:13px;font-family:arial,sans-serif;margin:0px\"><span style=\"color:rgb(80,0,80);font-family:Arial,Helvetica,sans-serif;font-size:small\"></span></p><p style=\"font-size:13px;margin:0px\"><span style=\"font-family:verdana,sans-serif\"><span style=\"color:rgb(127,127,127);font-size:7.5pt\">Tel&nbsp;<span style=\"background-color:rgb(0,0,255)\"><span style=\"color:rgb(0,0,255)\"><span style=\"background-color:rgb(255,255,255)\">778.331.6933 ext.207</span></span></span></span></span></p><p style=\"color:rgb(34,34,34);font-size:13px;margin:0px\"><span style=\"color:rgb(127,127,127);font-size:7.5pt\"><font face=\"verdana, sans-serif\"><a value=\"+17783316933\" style=\"color:rgb(0,0,204)\"><span style=\"color:rgb(127,127,127);font-size:7.5pt\">Fax&nbsp;</span></a><a value=\"+17783316933\" style=\"color:rgb(0,0,204)\">1.855.331.6935</a></font></span></p><p style=\"color:rgb(34,34,34);font-size:13px;font-family:arial,sans-serif;margin:0px\"><span style=\"color:rgb(127,127,127);font-size:7.5pt\"><a value=\"+17783316933\" style=\"color:rgb(0,0,204)\"></a></span><span style=\"font-size:7.5pt\"></span></p><p style=\"color:rgb(34,34,34);font-size:13px;font-family:arial,sans-serif;margin:0px\"><span style=\"color:rgb(127,127,127);font-size:7.5pt\"><a value=\"+17783316933\" style=\"color:rgb(0,0,204)\"></a></span></p><p style=\"color:rgb(34,34,34);font-size:13px;font-family:arial,sans-serif;margin:0px\"><span style=\"color:rgb(109,110,113);font-size:7.5pt\">. . . . . . . . . . . . . . . . . . . . . . . . . . . . . . . . . . . . .</span></p></div></div>\n",
    "\"\"\""
   ]
  },
  {
   "cell_type": "code",
   "execution_count": 10,
   "metadata": {},
   "outputs": [
    {
     "data": {
      "text/plain": [
       "0     <a href=\"http://www.olimp.turystyka.pl/vza/get...\n",
       "1     <a href=\"https://geekinsider.com/boost-product...\n",
       "2     <a href=\"https://upcea.edu/home-sweet-home-is-...\n",
       "3     <a href=\"https://blog.naturalwellbeing.com/6-t...\n",
       "4     <a href=\"https://www.nya.org/about/healthy-min...\n",
       "5     <a href=\"https://blog.fracturedatlas.org/best-...\n",
       "6     <a href=\"https://vocal.media/lifehack/tips-on-...\n",
       "7     <a href=\"https://www.belvoir.co.uk/articles/cr...\n",
       "8     <a href=\"http://m.prodia.co.id/en/Content/View...\n",
       "9     <a href=\"https://wearethecity.com/working-top-...\n",
       "10    <a href=\"https://midtrans.com/id/blog/tips-unt...\n",
       "11    <a href=\"https://dev.wholewhale.com/tips/nonpr...\n",
       "12    <a href=\"https://www.hk01.com/%E8%81%B7%E5%A0%...\n",
       "13    <a href=\"https://remoters.net/9-productivity-t...\n",
       "14    <a href=\"https://blog.loomly.com/remote-work-f...\n",
       "15    <a href=\"https://www.bizjournals.com/charlotte...\n",
       "16    <a href=\"https://primeraeng.com/posts/a-home-b...\n",
       "17    <a href=\"https://www.podkasty.info/katalog/379...\n",
       "18    <a href=\"https://mentalitch.com/how-to-find-yo...\n",
       "19    <a href=\"https://staging.county.org/News/Healt...\n",
       "20    <a href=\"https://corp.kaltura.com/blog/a-guide...\n",
       "21    <a href=\"https://www.earthnetworks.com/resourc...\n",
       "22    <a href=\"https://www.phillymag.com/be-well-phi...\n",
       "23    <a href=\"https://mightygadget.com/starting-a-b...\n",
       "24    <a href=\"https://lawpreview.barbri.com/taking-...\n",
       "25    <a href=\"https://www.bustle.com/articles/14969...\n",
       "26    <a href=\"http://www.uapb.edu/sites/www/Uploads...\n",
       "27    <a href=\"https://pierre.org/your-community/cov...\n",
       "28    <a href=\"https://coopsandcareers.wit.edu/blog/...\n",
       "29    <a href=\"http://courses.ics.hawaii.edu/ics314s...\n",
       "30    <a href=\"https://articles.entireweb.com/techno...\n",
       "Name: Referring Hyperlink, dtype: object"
      ]
     },
     "execution_count": 10,
     "metadata": {},
     "output_type": "execute_result"
    }
   ],
   "source": [
    "## Safe to rerun ##\n",
    "\n",
    "# Mr. playground-eeh\n",
    "df.loc[:, 'Referring Hyperlink']"
   ]
  },
  {
   "cell_type": "code",
   "execution_count": 9,
   "metadata": {},
   "outputs": [],
   "source": [
    "# Temporary: Fill the empty columns\n",
    "\n",
    "for i in range(0, 31):\n",
    "    df.loc[i:, 'Referring Hyperlink'] = f\"\"\"<a href=\"{df.loc[i, \"Referring page URL\"]}\">{df.loc[i, \"Referring Topic\"]}</a>\"\"\""
   ]
  },
  {
   "cell_type": "code",
   "execution_count": 14,
   "metadata": {},
   "outputs": [],
   "source": [
    "## NOT Safe to rerun ##\n",
    "## Needs manual edit ##\n",
    "\n",
    "# Send the emails\n",
    "with smtplib.SMTP_SSL('smtp.gmail.com', 465, context=context) as sender:\n",
    "        sender.login(email_sender, email_password)\n",
    "        for i in range(20, 31):\n",
    "            email_receiver = df.loc[i, 'Recipient']\n",
    "            subject = f\"Regarding your article on {df.loc[i, 'Referring Topic']}\"\n",
    "            body = f\"\"\"\n",
    "            Hi {df.loc[i, \"First Name\"]},\n",
    "        <br>\n",
    "        <br>\n",
    "        I noticed that you linked to {df.loc[i, \"Target Hyperlink\"]} in your article on {df.loc[i, \"Referring Hyperlink\"]}. I wanted to give you heads up that we’ve created a more in-depth resource that your readers might find useful. It’s like {df.loc[i, 'Target Topic']} but it’s more thorough, up-to-date, and contains peer reviewed information.\n",
    "        <br>\n",
    "        <br>\n",
    "        If you want to use this link in your article instead, here it is: {df.loc[i, \"SQ1 URL\"]}\n",
    "        <br>\n",
    "        <br>\n",
    "        Either way, thanks for your time.\n",
    "        <br>\n",
    "        <br>\n",
    "        Cheers,\n",
    "        <br>\n",
    "        Hooman\n",
    "        <br>\n",
    "        <br>\n",
    "        {signature}\n",
    "            \"\"\"\n",
    "\n",
    "            ## Send the email\n",
    "            em = MIMEText(body, \"html\")\n",
    "            em['From'] = email_sender\n",
    "            em['To'] = df.loc[i, \"Recipient\"]\n",
    "            em['Subject'] = subject\n",
    "            em['Message-ID'] = make_msgid()\n",
    "            em['Thread-Topic'] = subject\n",
    "\n",
    "            df.loc[i, 'subject'] = subject\n",
    "            df.loc[i, 'message-id'] = em['Message-ID']\n",
    "\n",
    "            logging.info(f'Sending mail to {email_receiver} at {time.time()}')\n",
    "\n",
    "            sender.sendmail(email_sender, df.loc[i, 'Recipient'], em.as_string())\n",
    "\n",
    "            logging.info(f'Mail to {email_receiver} sent at {time.time()}')"
   ]
  },
  {
   "cell_type": "code",
   "execution_count": 22,
   "metadata": {},
   "outputs": [],
   "source": [
    "# Save to the same csv file\n",
    "file_name = f\"{df.loc[df.tail(1).index[0], 'Recipient']}.csv\"\n",
    "path = r\"C:\\Users\\Hooman Deghani\\Python\\Data Analysis\\Outreach - Skyscraper\\Input\\Current\\F\"\n",
    "df.to_csv(path+file_name)"
   ]
  }
 ],
 "metadata": {
  "kernelspec": {
   "display_name": "Python 3",
   "language": "python",
   "name": "python3"
  },
  "language_info": {
   "codemirror_mode": {
    "name": "ipython",
    "version": 3
   },
   "file_extension": ".py",
   "mimetype": "text/x-python",
   "name": "python",
   "nbconvert_exporter": "python",
   "pygments_lexer": "ipython3",
   "version": "3.10.5"
  },
  "orig_nbformat": 4
 },
 "nbformat": 4,
 "nbformat_minor": 2
}
