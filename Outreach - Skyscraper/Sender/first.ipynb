{
 "cells": [
  {
   "cell_type": "code",
   "execution_count": 61,
   "metadata": {},
   "outputs": [],
   "source": [
    "import config \n",
    "import os\n",
    "import pandas as pd\n",
    "import ssl\n",
    "import smtplib\n",
    "\n",
    "from email.mime.text import MIMEText\n",
    "from email.utils import make_msgid\n",
    "\n",
    "\n",
    "email_sender = \"hooman.dehghani@squareone.ca\"\n",
    "email_password = config.Gmail_Python_Password"
   ]
  },
  {
   "cell_type": "code",
   "execution_count": 74,
   "metadata": {},
   "outputs": [],
   "source": [
    "# Read dataframe\n",
    "directory = r\"C:\\Users\\Hooman Deghani\\Python\\Data Analysis\\Outreach - Skyscraper\\Input\\Current\"\n",
    "urls = [os.path.join(directory, filename) for filename in os.listdir(directory) if filename.endswith('.csv')]\n",
    "if len(urls) > 1:\n",
    "    df = pd.concat([pd.read_csv(url) for url in urls], ignore_index=True)\n",
    "else: \n",
    "    df = pd.read_csv(urls[0])\n",
    "\n",
    "# Remove columns including \"Unnamed\"\n",
    "Unnamed = [column for column in df.columns if \"Unnamed\" in column]\n",
    "df = df.drop(columns= Unnamed)\n",
    "\n",
    "# Add the em[] columns\n",
    "df.loc[:, ['subject', 'message-id']] = \"\"\n",
    "\n",
    "# Temporary: Should be moved to filtering.ipynb\n",
    "df['Referring Hyperlink'] = \"\""
   ]
  },
  {
   "cell_type": "code",
   "execution_count": 75,
   "metadata": {},
   "outputs": [],
   "source": [
    "# Define the global variables here\n",
    "context = ssl.create_default_context()\n",
    "signature = \"\"\"\n",
    "<div dir=\"ltr\" data-smartmail=\"gmail_signature\"><div dir=\"ltr\"><span style=\"color:rgb(34,34,34)\">. . . . . . . . . . . . . . . . . . . . . . . . . . . . . . . . . . . . .</span><p style=\"margin:0px\"><font color=\"#f37b20\" face=\"verdana, sans-serif\"><span style=\"font-size:10px\"><b>Hooman Dehghani</b></span></font></p><p style=\"font-size:13px;margin:0px\"><span style=\"font-family:verdana,sans-serif\"><span style=\"color:rgb(127,127,127);font-size:7.5pt\">SEO Marketing Coordinator</span></span></p><p style=\"font-size:13px;margin:0px\"><span style=\"font-family:verdana,sans-serif\"><span style=\"color:rgb(127,127,127);font-size:7.5pt\">Square One Insurance Services Inc.</span><span style=\"font-size:7.5pt\"></span></span></p><p style=\"font-size:13px;margin:0px\"><span style=\"font-family:verdana,sans-serif\"><span style=\"color:rgb(127,127,127);font-size:7.5pt\">Suite 1410 -&nbsp;</span><span style=\"color:rgb(127,127,127);font-size:7.5pt\">650&nbsp;West Georgia&nbsp;Street</span></span></p><p style=\"font-size:13px;margin:0px\"><span style=\"font-family:verdana,sans-serif\"><span style=\"color:rgb(127,127,127);font-size:7.5pt\">Vancouver, BC &nbsp;V6B 4N8</span></span></p><p style=\"font-size:13px;font-family:arial,sans-serif;margin:0px\"><span style=\"color:rgb(80,0,80);font-family:Arial,Helvetica,sans-serif;font-size:small\"></span></p><p style=\"font-size:13px;margin:0px\"><span style=\"font-family:verdana,sans-serif\"><span style=\"color:rgb(127,127,127);font-size:7.5pt\">Tel&nbsp;<span style=\"background-color:rgb(0,0,255)\"><span style=\"color:rgb(0,0,255)\"><span style=\"background-color:rgb(255,255,255)\">778.331.6933 ext.207</span></span></span></span></span></p><p style=\"color:rgb(34,34,34);font-size:13px;margin:0px\"><span style=\"color:rgb(127,127,127);font-size:7.5pt\"><font face=\"verdana, sans-serif\"><a value=\"+17783316933\" style=\"color:rgb(0,0,204)\"><span style=\"color:rgb(127,127,127);font-size:7.5pt\">Fax&nbsp;</span></a><a value=\"+17783316933\" style=\"color:rgb(0,0,204)\">1.855.331.6935</a></font></span></p><p style=\"color:rgb(34,34,34);font-size:13px;font-family:arial,sans-serif;margin:0px\"><span style=\"color:rgb(127,127,127);font-size:7.5pt\"><a value=\"+17783316933\" style=\"color:rgb(0,0,204)\"></a></span><span style=\"font-size:7.5pt\"></span></p><p style=\"color:rgb(34,34,34);font-size:13px;font-family:arial,sans-serif;margin:0px\"><span style=\"color:rgb(127,127,127);font-size:7.5pt\"><a value=\"+17783316933\" style=\"color:rgb(0,0,204)\"></a></span></p><p style=\"color:rgb(34,34,34);font-size:13px;font-family:arial,sans-serif;margin:0px\"><span style=\"color:rgb(109,110,113);font-size:7.5pt\">. . . . . . . . . . . . . . . . . . . . . . . . . . . . . . . . . . . . .</span></p></div></div>\n",
    "\"\"\""
   ]
  },
  {
   "cell_type": "code",
   "execution_count": 76,
   "metadata": {},
   "outputs": [],
   "source": [
    "# Temporary: Fill the empty columns\n",
    "\n",
    "for i in range(0, 31):\n",
    "    df.loc[i:, 'Referring Hyperlink'] = f\"\"\"<a href=\"{df.loc[i, \"Referring page URL\"]}\">{df.loc[i, \"Referring Topic\"]}</a>\"\"\""
   ]
  },
  {
   "cell_type": "code",
   "execution_count": 85,
   "metadata": {},
   "outputs": [],
   "source": [
    "# Send the emails\n",
    "for i in range(5, 31):\n",
    "    email_receiver = df.loc[i, 'Recipient']\n",
    "    subject = f\"Regarding your article on {df.loc[i, 'Referring Topic']}\"\n",
    "    body = f\"\"\"\n",
    "    Hi {df.loc[i, \"First Name\"]},\n",
    "<br>\n",
    "<br>\n",
    "I noticed that you linked to {df.loc[i, \"Target Hyperlink\"]} in your article on {df.loc[i, \"Referring Hyperlink\"]}. I wanted to give you heads up that we’ve created a more in-depth resource that your readers might find useful. It’s like {df.loc[i, 'Target Topic']} but it’s more thorough, up-to-date, and contains peer reviewed information.\n",
    "<br>\n",
    "<br>\n",
    "If you want to use this link in your article instead, here it is: {df.loc[i, \"SQ1 URL\"]}\n",
    "<br>\n",
    "<br>\n",
    "Either way, thanks for your time.\n",
    "<br>\n",
    "<br>\n",
    "Cheers,\n",
    "<br>\n",
    "Hooman\n",
    "<br>\n",
    "<br>\n",
    "{signature}\n",
    "    \"\"\"\n",
    "\n",
    "    ## Send the email\n",
    "    em = MIMEText(body, \"html\")\n",
    "    em['From'] = email_sender\n",
    "    em['To'] = df.loc[i, \"Recipient\"]\n",
    "    em['Subject'] = subject\n",
    "    em['Message-ID'] = make_msgid()\n",
    "    em['Thread-Topic'] = subject\n",
    "\n",
    "    df.loc[i, 'subject'] = subject\n",
    "    df.loc[i, 'message-id'] = em['Message-ID']\n",
    "\n",
    "    with smtplib.SMTP_SSL('smtp.gmail.com', 465, context=context) as sender:\n",
    "        sender.login(email_sender, email_password)\n",
    "        sender.sendmail(email_sender, df.loc[i, \"Recipient\"], em.as_string())   \n",
    "\n",
    " \n",
    "    "
   ]
  },
  {
   "cell_type": "code",
   "execution_count": 89,
   "metadata": {},
   "outputs": [],
   "source": [
    "# Save to the same csv file\n",
    "file_name = f\"{df.loc[df.tail(1).index[0], 'Recipient']}.csv\"\n",
    "path = r\"C:\\Users\\Hooman Deghani\\Python\\Data Analysis\\Outreach - Skyscraper\\Input\\Current\\F\"\n",
    "df.to_csv(path+file_name)"
   ]
  }
 ],
 "metadata": {
  "kernelspec": {
   "display_name": "Python 3",
   "language": "python",
   "name": "python3"
  },
  "language_info": {
   "codemirror_mode": {
    "name": "ipython",
    "version": 3
   },
   "file_extension": ".py",
   "mimetype": "text/x-python",
   "name": "python",
   "nbconvert_exporter": "python",
   "pygments_lexer": "ipython3",
   "version": "3.10.5"
  },
  "orig_nbformat": 4
 },
 "nbformat": 4,
 "nbformat_minor": 2
}
