{
 "cells": [
  {
   "cell_type": "code",
   "execution_count": 2,
   "metadata": {},
   "outputs": [],
   "source": [
    "import config \n",
    "import pandas as pd\n",
    "import ssl\n",
    "import smtplib\n",
    "\n",
    "from email.message import EmailMessage\n",
    "from email.utils import make_msgid\n",
    "\n",
    "\n",
    "email_sender = \"hooman.dehghani@squareone.ca\"\n",
    "email_password = config.Gmail_Python_Password\n",
    "# email_receiver = \"hooman.dehghani@outlook.com\""
   ]
  },
  {
   "cell_type": "code",
   "execution_count": 31,
   "metadata": {},
   "outputs": [],
   "source": [
    "df = pd.DataFrame()\n",
    "df['email'] = ['hooman.dehghani@outlook.com', 'hooman.dehghani@squareone.ca', 'v.nrv24@gmail.com']\n",
    "df['message-id'] = \"\"\n",
    "df['thread-topic'] = \"\""
   ]
  },
  {
   "cell_type": "code",
   "execution_count": 32,
   "metadata": {},
   "outputs": [],
   "source": [
    "subject_1 = 'This is the first email.'\n",
    "body_1 = 'Yo bro. This is the first email.'\n",
    "# body_2 = f'Yo bro. This is a reply to the first email for {df.loc[i, \"email\"]}'\n",
    "\n",
    "context = ssl.create_default_context()"
   ]
  },
  {
   "cell_type": "code",
   "execution_count": 37,
   "metadata": {},
   "outputs": [],
   "source": [
    "for i in range(0, 3):\n",
    "    em = EmailMessage()\n",
    "    em['From'] = email_sender\n",
    "    em['To'] = df.loc[i, 'email']\n",
    "    em['Subject'] = subject_1\n",
    "    em.set_content(body_1)\n",
    "    em['Message-ID'] = make_msgid()\n",
    "    em['Thread-Topic'] = subject_1\n",
    "\n",
    "    df.loc[i, 'message-id'] = em['Message-ID']\n",
    "\n",
    "    with smtplib.SMTP_SSL('smtp.gmail.com', 465, context=context) as sender:\n",
    "        sender.login(email_sender, email_password)\n",
    "        sender.sendmail(email_sender, df.loc[i, 'email'], em.as_string())\n",
    "\n"
   ]
  },
  {
   "cell_type": "code",
   "execution_count": 38,
   "metadata": {},
   "outputs": [],
   "source": [
    "for i in range(0, 3):\n",
    "    em = EmailMessage()\n",
    "    em['From'] = email_sender\n",
    "    em['To'] = df.loc[i, 'email']\n",
    "    em.set_content(f'Yo bro. This is a reply to the first email for {df.loc[i, \"email\"]}')\n",
    "    em['Subject'] = subject_1\n",
    "    em['In-Reply-To'] = df.loc[i, 'message-id']\n",
    "    em['References'] = df.loc[i, 'message-id']\n",
    "    em['Thread-Topic'] = subject_1\n",
    "\n",
    "\n",
    "    with smtplib.SMTP_SSL('smtp.gmail.com', 465, context=context) as sender:\n",
    "        sender.login(email_sender, email_password)\n",
    "        sender.sendmail(email_sender, df.loc[i, 'email'], em.as_string())"
   ]
  },
  {
   "cell_type": "code",
   "execution_count": 19,
   "metadata": {},
   "outputs": [
    {
     "data": {
      "text/html": [
       "<div>\n",
       "<style scoped>\n",
       "    .dataframe tbody tr th:only-of-type {\n",
       "        vertical-align: middle;\n",
       "    }\n",
       "\n",
       "    .dataframe tbody tr th {\n",
       "        vertical-align: top;\n",
       "    }\n",
       "\n",
       "    .dataframe thead th {\n",
       "        text-align: right;\n",
       "    }\n",
       "</style>\n",
       "<table border=\"1\" class=\"dataframe\">\n",
       "  <thead>\n",
       "    <tr style=\"text-align: right;\">\n",
       "      <th></th>\n",
       "      <th>email</th>\n",
       "      <th>message-id</th>\n",
       "    </tr>\n",
       "  </thead>\n",
       "  <tbody>\n",
       "    <tr>\n",
       "      <th>0</th>\n",
       "      <td>hooman.dehghani@outlook.com</td>\n",
       "      <td>&lt;169566659684.10132.9060304121278187018@SQ1-LP...</td>\n",
       "    </tr>\n",
       "    <tr>\n",
       "      <th>1</th>\n",
       "      <td>hooman.dehghani@squareone.ca</td>\n",
       "      <td>&lt;169566659763.10132.6871862771303707623@SQ1-LP...</td>\n",
       "    </tr>\n",
       "    <tr>\n",
       "      <th>2</th>\n",
       "      <td>v.nrv24@gmail.com</td>\n",
       "      <td>&lt;169566659851.10132.13185624114811061046@SQ1-L...</td>\n",
       "    </tr>\n",
       "  </tbody>\n",
       "</table>\n",
       "</div>"
      ],
      "text/plain": [
       "                          email  \\\n",
       "0   hooman.dehghani@outlook.com   \n",
       "1  hooman.dehghani@squareone.ca   \n",
       "2             v.nrv24@gmail.com   \n",
       "\n",
       "                                          message-id  \n",
       "0  <169566659684.10132.9060304121278187018@SQ1-LP...  \n",
       "1  <169566659763.10132.6871862771303707623@SQ1-LP...  \n",
       "2  <169566659851.10132.13185624114811061046@SQ1-L...  "
      ]
     },
     "execution_count": 19,
     "metadata": {},
     "output_type": "execute_result"
    }
   ],
   "source": [
    "df\n",
    "\n"
   ]
  },
  {
   "cell_type": "code",
   "execution_count": 29,
   "metadata": {},
   "outputs": [],
   "source": [
    "with smtplib.SMTP_SSL('smtp.gmail.com', 465, context=context) as sender:\n",
    "    sender.login(email_sender, email_password)\n",
    "    sender.sendmail(email_sender, email_receiver, em.as_string())"
   ]
  },
  {
   "cell_type": "code",
   "execution_count": 27,
   "metadata": {},
   "outputs": [
    {
     "name": "stdout",
     "output_type": "stream",
     "text": [
      "From: hooman.dehghani@squareone.ca\n",
      "To: hooman.dehghani@outlook.com\n",
      "Subject: First email via Python\n",
      "Content-Type: text/plain; charset=\"utf-8\"\n",
      "Content-Transfer-Encoding: 7bit\n",
      "MIME-Version: 1.0\n",
      "Message-ID: <169541037759.15844.8324551110971797274@SQ1-LP-85.lan>\n",
      "\n",
      "\n",
      "    It's really not much.\n",
      "\n"
     ]
    }
   ],
   "source": [
    "print(em)"
   ]
  }
 ],
 "metadata": {
  "kernelspec": {
   "display_name": "Python 3",
   "language": "python",
   "name": "python3"
  },
  "language_info": {
   "codemirror_mode": {
    "name": "ipython",
    "version": 3
   },
   "file_extension": ".py",
   "mimetype": "text/x-python",
   "name": "python",
   "nbconvert_exporter": "python",
   "pygments_lexer": "ipython3",
   "version": "3.10.5"
  },
  "orig_nbformat": 4
 },
 "nbformat": 4,
 "nbformat_minor": 2
}
