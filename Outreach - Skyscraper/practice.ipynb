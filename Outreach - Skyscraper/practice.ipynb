{
 "cells": [
  {
   "cell_type": "code",
   "execution_count": 4,
   "metadata": {},
   "outputs": [],
   "source": [
    "import pandas as pd\n",
    "from openpyxl import Workbook\n",
    "\n",
    "df = pd.read_csv(r\"C:\\Users\\Hooman Deghani\\OneDrive\\PC\\Desktop\\Input\\gpt-3.5-turbo\\xml_sitemap_urls.csv\")\n",
    "\n",
    "project = input(\"What is the project name? \")\n",
    "df.to_excel(rf\"C:\\Users\\Hooman Deghani\\Python\\Data Analysis\\Outreach - Skyscraper\\Output\\Archive\\Fthb\\{project}.xlsx\", index=False)"
   ]
  },
  {
   "cell_type": "code",
   "execution_count": null,
   "metadata": {},
   "outputs": [],
   "source": []
  }
 ],
 "metadata": {
  "kernelspec": {
   "display_name": "Python 3",
   "language": "python",
   "name": "python3"
  },
  "language_info": {
   "codemirror_mode": {
    "name": "ipython",
    "version": 3
   },
   "file_extension": ".py",
   "mimetype": "text/x-python",
   "name": "python",
   "nbconvert_exporter": "python",
   "pygments_lexer": "ipython3",
   "version": "3.10.5"
  },
  "orig_nbformat": 4
 },
 "nbformat": 4,
 "nbformat_minor": 2
}
